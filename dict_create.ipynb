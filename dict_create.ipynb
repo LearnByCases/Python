{
 "cells": [
  {
   "attachments": {},
   "cell_type": "markdown",
   "metadata": {},
   "source": [
    "创建字典的常见方法"
   ]
  },
  {
   "cell_type": "code",
   "execution_count": 12,
   "metadata": {},
   "outputs": [
    {
     "name": "stdout",
     "output_type": "stream",
     "text": [
      "{'name': 'primebi', 'age': 18, 'hobbies': ['reading', 'writing']}\n"
     ]
    }
   ],
   "source": [
    "# 方法一：使用花括号{}语法创建一个字典，将键值对用冒号:分隔，用逗号,分隔每个键值对\n",
    "d = {\"name\": \"primebi\", \"age\": 18, \"hobbies\": [\"reading\", \"writing\"]}\n",
    "# 打印字典\n",
    "print(d)"
   ]
  },
  {
   "cell_type": "code",
   "execution_count": 13,
   "metadata": {},
   "outputs": [
    {
     "name": "stdout",
     "output_type": "stream",
     "text": [
      "{'name': 'primebi', 'age': 18, 'hobbies': ['reading', 'writing']}\n"
     ]
    }
   ],
   "source": [
    "# 方法二：使用dict()函数将二元组列表或关键字参数传入，返回一个字典对象\n",
    "d = dict([(\"name\", \"primebi\"), (\"age\", 18), (\"hobbies\", [\"reading\", \"writing\"])])\n",
    "print(d)"
   ]
  },
  {
   "cell_type": "code",
   "execution_count": 14,
   "metadata": {},
   "outputs": [
    {
     "name": "stdout",
     "output_type": "stream",
     "text": [
      "{'name': 'primebi', 'age': 18, 'hobbies': ['reading', 'writing']}\n"
     ]
    }
   ],
   "source": [
    "# 方法三：使用dict()函数和关键字参数创建字典\n",
    "d = dict(name=\"primebi\", age=18, hobbies=[\"reading\", \"writing\"])\n",
    "print(d)"
   ]
  },
  {
   "cell_type": "code",
   "execution_count": 15,
   "metadata": {},
   "outputs": [
    {
     "name": "stdout",
     "output_type": "stream",
     "text": [
      "{'name': None, 'age': None, 'gender': None}\n",
      "{'name': 'unknown', 'age': 'unknown', 'gender': 'unknown'}\n"
     ]
    }
   ],
   "source": [
    "# 方法四：使用dict.fromkeys()方法，以序列seq中元素做字典的键，val为字典所有键对应的初始值，默认为None\n",
    "# 创建一个序列\n",
    "seq = (\"name\", \"age\", \"gender\")\n",
    "# 使用dict.fromkeys()方法创建一个新字典，以seq中元素做键，默认值为None\n",
    "d = dict.fromkeys(seq)\n",
    "print(d)\n",
    "# 以seq中元素做键，指定值为\"unknown\"\n",
    "d = dict.fromkeys(seq, \"unknown\")\n",
    "print(d)"
   ]
  },
  {
   "cell_type": "code",
   "execution_count": 16,
   "metadata": {},
   "outputs": [
    {
     "name": "stdout",
     "output_type": "stream",
     "text": [
      "<zip object at 0x000001787BBBAE80>\n",
      "{'name': 'primebi', 'age': 18, 'gender': 'male'}\n"
     ]
    }
   ],
   "source": [
    "# 方法五：使用zip()函数，将两个序列中的元素配对成键值对，然后用dict()函数转换为字典\n",
    "# 创建两个序列\n",
    "keys = (\"name\", \"age\", \"gender\")\n",
    "values = (\"primebi\", 18, \"male\")\n",
    "# 使用zip()函数将两个序列配对\n",
    "pairs = zip(keys, values)\n",
    "print(pairs)\n",
    "# 使用dict()函数将配对结果转换为字典\n",
    "d = dict(pairs)\n",
    "print(d)"
   ]
  },
  {
   "cell_type": "code",
   "execution_count": 17,
   "metadata": {},
   "outputs": [
    {
     "name": "stdout",
     "output_type": "stream",
     "text": [
      "{97: 'a', 98: 'b', 99: 'c', 100: 'd', 101: 'e', 102: 'f', 103: 'g'}\n"
     ]
    }
   ],
   "source": [
    "# 方法六：使用字典推导式，根据一定的规则生成键值对，用花括号{}包围\n",
    "# 键是ASCII码，值为对应的字母\n",
    "d = {x: chr(x) for x in range(ord('a'), ord('g') + 1)}\n",
    "print(d)"
   ]
  }
 ],
 "metadata": {
  "kernelspec": {
   "display_name": "Python 3",
   "language": "python",
   "name": "python3"
  },
  "language_info": {
   "codemirror_mode": {
    "name": "ipython",
    "version": 3
   },
   "file_extension": ".py",
   "mimetype": "text/x-python",
   "name": "python",
   "nbconvert_exporter": "python",
   "pygments_lexer": "ipython3",
   "version": "3.11.1"
  },
  "orig_nbformat": 4
 },
 "nbformat": 4,
 "nbformat_minor": 2
}
