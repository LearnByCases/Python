{
 "cells": [
  {
   "cell_type": "code",
   "execution_count": 1,
   "metadata": {},
   "outputs": [
    {
     "name": "stdout",
     "output_type": "stream",
     "text": [
      "------------------ 使用set()函数 ------------------\n",
      "list(set(mylist)): \n",
      "[2, 3, 4, 5]\n",
      "------------------ 使用dict.fromkeys()方法 ------------------\n",
      "list(dict.fromkeys(mylist)): \n",
      "[5, 2, 3, 4]\n",
      "------------------ 使用列表推导式 ------------------\n",
      "[x for i, x in enumerate(mylist) if x not in mylist[:i]]\n",
      "[5, 2, 3, 4]\n"
     ]
    }
   ],
   "source": [
    "'''\n",
    "列表元素去重\n",
    "'''\n",
    "\n",
    "print('-' * 18, \"使用set()函数\", '-' * 18)\n",
    "# set()函数可以将一个可迭代对象转换为一个集合，集合是一种无序且不重复的数据结构，因此可以用来去除列表中的重复元素。\n",
    "# 但是这种方法会改变列表中元素的顺序，如果不需要保持原来的顺序，可以使用这种方法。\n",
    "\n",
    "# 创建一个有重复元素的列表\n",
    "mylist = [5, 2, 3, 2, 4, 5, 4]\n",
    "# 使用set()函数去除重复元素，并转换回列表\n",
    "mylist = list(set(mylist))\n",
    "# 输出结果\n",
    "print(r'list(set(mylist)): ' + f'\\n{mylist}')\n",
    "\n",
    "\n",
    "print('-' * 18, \"使用dict.fromkeys()方法\", '-' * 18)\n",
    "# dict.fromkeys()方法可以从一个可迭代对象创建一个字典，\n",
    "# 字典是一种由键值对组成的数据结构，键是唯一的，因此也可以用来去除列表中的重复元素。\n",
    "# 这种方法可以保持列表中元素的顺序，但是会消耗更多的内存，如果需要保持原来的顺序，可以使用这种方法。\n",
    "\n",
    "# 创建一个有重复元素的列表\n",
    "mylist = [5, 2, 3, 2, 4, 5, 4]\n",
    "# 使用dict.fromkeys()方法去除重复元素，并转换回列表\n",
    "mylist = list(dict.fromkeys(mylist))\n",
    "# 输出结果\n",
    "print(r'list(dict.fromkeys(mylist)): ' + f'\\n{mylist}')\n",
    "\n",
    "\n",
    "print('-' * 18, \"使用列表推导式\", '-' * 18)\n",
    "# 列表推导式是一种用来创建新列表的语法，可以根据一个已有的可迭代对象生成一个新的列表，并对每个元素进行筛选或处理。\n",
    "# 使用列表推导式可以遍历列表中的每个元素，并判断是否已经出现过，如果没有出现过，则添加到新的列表中，这样就可以去除重复元素。\n",
    "# 这种方法也可以保持列表中元素的顺序，但是会消耗更多的时间，如果需要保持原来的顺序，并且不在乎效率，可以使用这种方法。\n",
    "'''\n",
    "enumerate是一个内置函数，用于将一个可迭代对象（如列表、元组或字符串）组合为一个索引序列，同时列出数据和数据下标，一般用在for循环当中。\n",
    "enumerate的语法是：enumerate(iterable, start=0)，其中iterable是一个可迭代对象，start是下标起始位置的值，默认为0。\n",
    "enumerate的返回值是一个enumerate对象，它是一个可迭代的生成器，可以用for循环遍历，也可以用list()函数转换为列表。\n",
    "enumerate的作用是在遍历可迭代对象时，同时获取元素的索引和值，这样可以避免使用额外的计数变量，或者使用range()和len()函数来获取索引。\n",
    "'''\n",
    "# 创建一个有重复元素的列表\n",
    "mylist = [5, 2, 3, 2, 4, 5, 4]\n",
    "# 使用列表推导式去除重复元素\n",
    "mylist = [x for i, x in enumerate(mylist) if x not in mylist[:i]]\n",
    "# 输出结果\n",
    "print(r'[x for i, x in enumerate(mylist) if x not in mylist[:i]]' + f'\\n{mylist}')"
   ]
  }
 ],
 "metadata": {
  "kernelspec": {
   "display_name": "Python 3",
   "language": "python",
   "name": "python3"
  },
  "language_info": {
   "codemirror_mode": {
    "name": "ipython",
    "version": 3
   },
   "file_extension": ".py",
   "mimetype": "text/x-python",
   "name": "python",
   "nbconvert_exporter": "python",
   "pygments_lexer": "ipython3",
   "version": "3.11.1"
  },
  "orig_nbformat": 4
 },
 "nbformat": 4,
 "nbformat_minor": 2
}
