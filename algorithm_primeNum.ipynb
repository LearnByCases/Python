{
 "cells": [
  {
   "cell_type": "code",
   "execution_count": 10,
   "metadata": {},
   "outputs": [
    {
     "name": "stdout",
     "output_type": "stream",
     "text": [
      " 2 3 5 7 11 13 17 19 23 29 31 37 41 43 47 53 59 61 67 71 73 79 83 89 97\n",
      " 2 3 5 7 11 13 17 19 23 29 31 37 41 43 47 53 59 61 67 71 73 79 83 89 97\n",
      " 2 3 5 7 11 13 17 19 23 29 31 37 41 43 47 53 59 61 67 71 73 79 83 89 97\n"
     ]
    }
   ],
   "source": [
    "'''\n",
    "判断素数(质数)\n",
    "'''\n",
    "\n",
    "# 穷举法：时间复杂度O(n)，空间复杂度O(1)\n",
    "def is_prime1(x):\n",
    "  if x <= 1:\n",
    "    return False\n",
    "  for i in range(2, x):\n",
    "    if x % i == 0:\n",
    "      return False\n",
    "  return True\n",
    "\n",
    "# 平方根法：时间复杂度O(sqrt(n))，空间复杂度O(1)\n",
    "# 对穷举法的优化，事实上只需要遍历从2到该数的平方根即可。\n",
    "# 因为如果该数有大于平方根的因数，那么必然有小于平方根的因数。\n",
    "def is_prime2(x):\n",
    "  if x <= 1:\n",
    "    return False\n",
    "  for i in range(2, int(x ** 0.5) + 1):\n",
    "    if x % i == 0:\n",
    "      return False\n",
    "  return True\n",
    "\n",
    "# 6n法：时间复杂度O(sqrt(n))，空间复杂度O(1)\n",
    "# 对平方根法的进一步优化，利用了一个结论：除了2和3，所有质数都可以表示成6n+1或6n+5的形式。\n",
    "# 因此只需要判断这两种形式的数是否为质数即可。\n",
    "def is_prime3(x):\n",
    "  if x <= 1:\n",
    "    return False\n",
    "  if x == 2 or x == 3:\n",
    "    return True\n",
    "  elif x % 6 != 1 and x % 6 != 5:\n",
    "    return False\n",
    "  else:\n",
    "    for i in range(5, int(x ** 0.5) + 1, 6):\n",
    "      if x % i == 0 or x % (i + 2) == 0:\n",
    "        return False\n",
    "    return True\n",
    "\n",
    "# 使用费马小定理，即如果一个数n是质数，那么对于任何小于n的正整数a，有a^n mod n = a成立。代码略。\n",
    "\n",
    "\n",
    "# 输出1000以内的素数：\n",
    "prime_str1 = ''\n",
    "prime_str2 = ''\n",
    "prime_str3 = ''\n",
    "for i in range(2,100):\n",
    "  prime_str1 = prime_str1 + ' ' + str(i) if is_prime1(i) else prime_str1\n",
    "  prime_str2 = prime_str2 + ' ' + str(i) if is_prime2(i) else prime_str2\n",
    "  prime_str3 = prime_str3 + ' ' + str(i) if is_prime3(i) else prime_str3\n",
    "print(prime_str1)\n",
    "print(prime_str2)\n",
    "print(prime_str3)"
   ]
  }
 ],
 "metadata": {
  "kernelspec": {
   "display_name": "Python 3",
   "language": "python",
   "name": "python3"
  },
  "language_info": {
   "codemirror_mode": {
    "name": "ipython",
    "version": 3
   },
   "file_extension": ".py",
   "mimetype": "text/x-python",
   "name": "python",
   "nbconvert_exporter": "python",
   "pygments_lexer": "ipython3",
   "version": "3.11.1"
  },
  "orig_nbformat": 4
 },
 "nbformat": 4,
 "nbformat_minor": 2
}
