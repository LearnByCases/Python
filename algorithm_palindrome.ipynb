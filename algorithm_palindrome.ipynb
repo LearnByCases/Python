{
 "cells": [
  {
   "cell_type": "code",
   "execution_count": 16,
   "metadata": {},
   "outputs": [
    {
     "name": "stdout",
     "output_type": "stream",
     "text": [
      "abcdefg:不是回文字符串。\n",
      "abcdcba:是回文字符串。\n",
      "abcdefg:不是回文字符串。\n",
      "abcdcba:是回文字符串。\n",
      "abcdefg:不是回文字符串。\n",
      "abcdcba:是回文字符串。...\n",
      "abcdefg:False\n",
      "abcdcba:True\n"
     ]
    }
   ],
   "source": [
    "'''\n",
    "判断回文字符串\n",
    "'''\n",
    "\n",
    "# 使用切片操作：\n",
    "# 利用Python的切片操作，可以对字符串进行反转，然后判断反转后的字符串是否与原字符串相等。\n",
    "def is_palindrome1(s):\n",
    "  if s == s[::-1]:\n",
    "    print(f\"{s}:是回文字符串。\")\n",
    "  else:\n",
    "    print(f\"{s}:不是回文字符串。\")\n",
    "\n",
    "# 使用reversed函数：\n",
    "# 利用了Python的reversed函数，可以对字符串进行反转，然后判断反转后的字符串是否与原字符串相等。\n",
    "def is_palindrome2(s):\n",
    "  # 判断是否为回文字符串\n",
    "  if s == \"\".join(reversed(s)):\n",
    "    print(f\"{s}:是回文字符串。\")\n",
    "  else:\n",
    "    print(f\"{s}:不是回文字符串。\")\n",
    "\n",
    "# 使用双指针法：\n",
    "# 利用两个指针，分别从字符串的两端向中间移动，比较每一对字符是否相等，如果有不相等的情况，就说明不是回文字符串。\n",
    "def is_palindrome3(s):\n",
    "  left = 0\n",
    "  right = len(s) - 1\n",
    "  while left < right:\n",
    "    if s[left] != s[right]:\n",
    "      print(f\"{s}:不是回文字符串。\")\n",
    "      break\n",
    "    left += 1\n",
    "    right -= 1\n",
    "  else:\n",
    "    print(f\"{s}:是回文字符串。...\")\n",
    "\n",
    "# 使用递归函数\n",
    "def is_palindrome4(s):\n",
    "    s = str(s)\n",
    "    # 如果字符串为空或只有一个字符，则返回True\n",
    "    if not s or len(s) == 1:\n",
    "        return True\n",
    "    # 如果字符串的首尾字符不相等，则返回False\n",
    "    if s[0] != s[-1]:\n",
    "        return False\n",
    "    # 否则递归调用该函数判断去掉首尾字符后的子字符串\n",
    "    return is_palindrome4(s[1:-1])\n",
    "\n",
    "# 验证\n",
    "str1='abcdefg'\n",
    "str2='abcdcba'\n",
    "is_palindrome1(str1)\n",
    "is_palindrome1(str2)\n",
    "is_palindrome2(str1)\n",
    "is_palindrome2(str2)\n",
    "is_palindrome3(str1)\n",
    "is_palindrome3(str2)\n",
    "print(f'{str1}:{is_palindrome4(str1)}')\n",
    "print(f'{str2}:{is_palindrome4(str2)}')"
   ]
  },
  {
   "cell_type": "code",
   "execution_count": 17,
   "metadata": {},
   "outputs": [
    {
     "name": "stdout",
     "output_type": "stream",
     "text": [
      "123454321:True\n",
      "123456789:False\n"
     ]
    }
   ],
   "source": [
    "'''\n",
    "判断回文数\n",
    "'''\n",
    "# 除了按字符串方式判断，还可以通过算数运算判断\n",
    "def is_palindrome(n):\n",
    "  # 初始化一个反转后的数\n",
    "  reversed_n = 0\n",
    "  # 复制原数，用于循环\n",
    "  temp = n\n",
    "  # 循环提取各位数字，并构造反转后的数\n",
    "  while temp > 0:\n",
    "    # 获取最低位的数字\n",
    "    digit = temp % 10\n",
    "    # 将反转后的数乘以10，再加上最低位的数字\n",
    "    reversed_n = reversed_n * 10 + digit\n",
    "    # 将原数除以10，去掉最低位的数字\n",
    "    temp = temp // 10\n",
    "  # 判断原数是否与反转后的数相等\n",
    "  return n == reversed_n\n",
    "\n",
    "# 测试函数\n",
    "n1 = 123454321\n",
    "n2 = 123456789\n",
    "print(f'{n1}:{is_palindrome(n1)}')\n",
    "print(f'{n2}:{is_palindrome(n2)}')"
   ]
  }
 ],
 "metadata": {
  "kernelspec": {
   "display_name": "Python 3",
   "language": "python",
   "name": "python3"
  },
  "language_info": {
   "codemirror_mode": {
    "name": "ipython",
    "version": 3
   },
   "file_extension": ".py",
   "mimetype": "text/x-python",
   "name": "python",
   "nbconvert_exporter": "python",
   "pygments_lexer": "ipython3",
   "version": "3.11.1"
  },
  "orig_nbformat": 4
 },
 "nbformat": 4,
 "nbformat_minor": 2
}
