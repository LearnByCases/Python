{
 "cells": [
  {
   "attachments": {},
   "cell_type": "markdown",
   "metadata": {},
   "source": [
    "fromkeys()、setdefault()、has_key()的用法及示例"
   ]
  },
  {
   "cell_type": "code",
   "execution_count": 7,
   "metadata": {},
   "outputs": [
    {
     "name": "stdout",
     "output_type": "stream",
     "text": [
      "------------------ fromkeys() ------------------\n",
      "{'name': None, 'age': None, 'gender': None}\n",
      "{'name': 'Unknown', 'age': 'Unknown', 'gender': 'Unknown'}\n",
      "------------------ setdefault() ------------------\n",
      "lengyuewusheng\n",
      "None\n",
      "{'name': 'lengyuewusheng', 'age': 18, 'hobbies': ['reading', 'writing'], 'gender': None}\n",
      "Unknown\n",
      "{'name': 'lengyuewusheng', 'age': 18, 'hobbies': ['reading', 'writing'], 'gender': None, 'school': 'Unknown'}\n",
      "------------------ has_key()可用in替代 ------------------\n",
      "True\n",
      "False\n"
     ]
    }
   ],
   "source": [
    "# fromkeys()方法：创建一个新字典，以序列keys中元素做字典的键，字典所有键对应的初始值默认为None。\n",
    "print('-' * 18, \"fromkeys()\", '-' * 18)\n",
    "# 创建一个序列\n",
    "keys = (\"name\", \"age\", \"gender\")\n",
    "# 使用fromkeys()方法创建一个新字典，以keys中元素做键，默认值为None\n",
    "d = dict.fromkeys(keys)\n",
    "print(d)\n",
    "# 使用fromkeys()方法创建一个新字典，以keys中元素做键，指定值为\"Unknown\"\n",
    "d = dict.fromkeys(keys, \"Unknown\")\n",
    "print(d)\n",
    "\n",
    "\n",
    "# setdefault()方法：和get()类似, 但如果键不存在于字典中，将会添加键并将值默认设置为None。\n",
    "print('-' * 18, \"setdefault()\", '-' * 18)\n",
    "# 创建一个字典\n",
    "d = {\"name\": \"lengyuewusheng\", \"age\": 18, \"hobbies\": [\"reading\", \"writing\"]}\n",
    "# 使用setdefault()方法获取键为\"name\"的值，如果不存在则添加键并设值为None\n",
    "value = d.setdefault(\"name\")\n",
    "print(value)\n",
    "# 使用setdefault()方法获取不存在的键\"gender\"的值，如果不存在则添加键并设值为None\n",
    "value = d.setdefault(\"gender\")\n",
    "print(value)\n",
    "# 打印修改后的字典\n",
    "print(d)\n",
    "# 使用setdefault()方法获取不存在的键\"school\"的值，如果不存在则添加键并设值为\"Unknown\"\n",
    "value = d.setdefault(\"school\", \"Unknown\")\n",
    "print(value) # unknown\n",
    "# 打印修改后的字典\n",
    "print(d)\n",
    "\n",
    "\n",
    "# has_key()方法：如果键在字典dict里返回true，否则返回false（Python3已废弃该方法，可用in替代）\n",
    "print('-' * 18, \"has_key()可用in替代\", '-' * 18)\n",
    "# 创建一个字典（Python 3）\n",
    "d = {\"name\": \"lengyuewusheng\", \"age\": 18, \"hobbies\": [\"reading\", \"writing\"]}\n",
    "# 使用in运算符判断键\"name\"是否在字典中（Python3）\n",
    "result = \"name\" in d\n",
    "print(result)\n",
    "# 使用in运算符判断键\"gender\"是否在字典中（Python3）\n",
    "result = \"gender\" in d\n",
    "print(result)"
   ]
  }
 ],
 "metadata": {
  "kernelspec": {
   "display_name": "Python 3",
   "language": "python",
   "name": "python3"
  },
  "language_info": {
   "codemirror_mode": {
    "name": "ipython",
    "version": 3
   },
   "file_extension": ".py",
   "mimetype": "text/x-python",
   "name": "python",
   "nbconvert_exporter": "python",
   "pygments_lexer": "ipython3",
   "version": "3.11.1"
  },
  "orig_nbformat": 4
 },
 "nbformat": 4,
 "nbformat_minor": 2
}
