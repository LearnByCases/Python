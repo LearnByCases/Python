{
 "cells": [
  {
   "cell_type": "markdown",
   "metadata": {},
   "source": [
    "遍历字典的常用的方法"
   ]
  },
  {
   "cell_type": "code",
   "execution_count": 10,
   "metadata": {},
   "outputs": [
    {
     "name": "stdout",
     "output_type": "stream",
     "text": [
      "------------------ for循环遍历字典的键 ------------------\n",
      "Name : lengyuewusheng\n",
      "Age : 18\n",
      "Major : Information Management and Information System\n",
      "University : buu\n",
      "------------------ keys()、values() ------------------\n",
      "Name -> lengyuewusheng\n",
      "Age -> 18\n",
      "Major -> Information Management and Information System\n",
      "University -> buu\n",
      "lengyuewusheng\n",
      "18\n",
      "Information Management and Information System\n",
      "buu\n",
      "------------------ items() ------------------\n",
      "Name -> lengyuewusheng\n",
      "Age -> 18\n",
      "Major -> Information Management and Information System\n",
      "University -> buu\n"
     ]
    }
   ],
   "source": [
    "# 方法一：直接用for循环遍历字典的键，然后用索引运算符[]获取对应的值。\n",
    "print('-' * 18, \"for循环遍历字典的键\", '-' * 18)\n",
    "# 创建一个字典\n",
    "dict_1 = {'Name': 'lengyuewusheng', 'Age': 18, 'Major': 'Information Management and Information System','University':'buu'}\n",
    "# 用for循环遍历字典的键\n",
    "for key in dict_1:\n",
    "    # 用索引运算符[]获取对应的值\n",
    "    print(key, \":\", dict_1[key])\n",
    "\n",
    "\n",
    "# 方法二：用字典的keys()方法返回一个包含所有键的对象，然后用for循环遍历它，同样用索引运算符[]获取对应的值。\n",
    "print('-' * 18, \"keys()、values()\", '-' * 18)\n",
    "# 创建一个字典\n",
    "dict_1 = {'Name': 'lengyuewusheng', 'Age': 18, 'Major': 'Information Management and Information System','University':'buu'}\n",
    "# 用字典的keys()方法返回一个包含所有键的对象\n",
    "keys = dict_1.keys()\n",
    "# 用for循环遍历这个对象\n",
    "for key in keys:\n",
    "    # 用索引运算符[]获取对应的值\n",
    "    print(key, \"->\", dict_1[key])\n",
    "\n",
    "# 用字典的values()方法返回一个包含所有值的对象\n",
    "values = dict_1.values()\n",
    "# 用for循环遍历这个对象\n",
    "for value in values:\n",
    "    # 打印每个值\n",
    "    print(value)\n",
    "\n",
    "\n",
    "# 方法三：用字典的items()方法返回一个包含所有键值对的对象，然后用for循环遍历它，并用两个变量来接收每个键值对。\n",
    "print('-' * 18, \"items()\", '-' * 18)\n",
    "# 创建一个字典\n",
    "dict_1 = {'Name': 'lengyuewusheng', 'Age': 18, 'Major': 'Information Management and Information System','University':'buu'}\n",
    "# 用字典的items()方法返回一个包含所有键值对的对象\n",
    "items = dict_1.items()\n",
    "# 用for循环遍历这个对象，并用两个变量来接收每个键值对\n",
    "for k, v in items:\n",
    "    # 打印每个键值对\n",
    "    print(k, \"->\", v)"
   ]
  }
 ],
 "metadata": {
  "kernelspec": {
   "display_name": "Python 3",
   "language": "python",
   "name": "python3"
  },
  "language_info": {
   "codemirror_mode": {
    "name": "ipython",
    "version": 3
   },
   "file_extension": ".py",
   "mimetype": "text/x-python",
   "name": "python",
   "nbconvert_exporter": "python",
   "pygments_lexer": "ipython3",
   "version": "3.11.1"
  },
  "orig_nbformat": 4
 },
 "nbformat": 4,
 "nbformat_minor": 2
}
