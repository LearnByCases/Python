{
 "cells": [
  {
   "attachments": {},
   "cell_type": "markdown",
   "metadata": {},
   "source": [
    "\n",
    "> time模块是Python的标准库，它提供了一些处理时间的函数，例如获取当前时间戳，格式化时间字符串，解析时间字符串等。\n",
    "> 但是，time模块不支持时间的加减操作，因为它的时间表示方式是一个浮点数，表示从1970年1月1日0时0分0秒开始到现在的秒数。\n",
    "> 如果要进行时间的加减操作，需要把时间换算成秒，然后进行数学运算，再换算回时间。\n",
    "\n",
    "time模块包含以下几种常用功能：\n",
    "* 获取当前时间的秒数，使用time()函数。\n",
    "* 将秒数转换为本地时间或UTC时间的结构化对象，使用localtime()或gmtime()函数。\n",
    "* 将结构化对象转换为可读的字符串，使用ctime()或asctime()函数。\n",
    "* 将结构化对象转换为自定义格式的字符串，使用strftime()函数。\n",
    "* 将字符串转换为结构化对象，使用strptime()函数。\n",
    "* 暂停程序的执行，使用sleep()函数。\n",
    "* 测量程序的执行时间，使用perf_counter()或process_time()函数。"
   ]
  },
  {
   "cell_type": "code",
   "execution_count": 25,
   "metadata": {},
   "outputs": [
    {
     "name": "stdout",
     "output_type": "stream",
     "text": [
      "代码：\ttime.time()\n",
      "功能：\t从Epoch开始，经历的秒数：1681401267.2215822\n",
      "\n",
      "代码：\ttime.localtime(time.time())\n",
      "功能：\t本地时间的结构化对象：time.struct_time(tm_year=2023, tm_mon=4, tm_mday=13, tm_hour=23, tm_min=54, tm_sec=27, tm_wday=3, tm_yday=103, tm_isdst=0)\n",
      "\n",
      "代码：\ttime.gmtime(time.time())\n",
      "功能：\tUTC时间的结构化对象：time.struct_time(tm_year=2023, tm_mon=4, tm_mday=13, tm_hour=15, tm_min=54, tm_sec=27, tm_wday=3, tm_yday=103, tm_isdst=0)\n",
      "\n",
      "代码：\ttime.ctime(time.time())\n",
      "功能：\t本地时间字符串：Thu Apr 13 23:54:27 2023\n",
      "\n",
      "代码：\ttime.asctime(time.gmtime(time.time()))\n",
      "功能：\tUTC时间字符串：Thu Apr 13 15:54:27 2023\n",
      "\n",
      "*代码：\ttime.strftime(\"%Y-%m-%d %H:%M:%S %Z\", time.localtime(time.time()))\n",
      "功能：\t自定义本地时间格式：2023-04-13 23:54:27 中国标准时间\n",
      "\n",
      "代码：\ttime.strftime(\"%Y-%m-%d %H:%M:%S %Z\", time.gmtime(time.time()))\n",
      "功能：\t自定义UTC时间格式：2023-04-13 15:54:27 中国标准时间\n",
      "\n",
      "代码：\ttime.strptime(\"2022-12-28 08:30:15\", \"%Y-%m-%d %H:%M:%S\")\n",
      "功能：\t将时间戳字符串\"2022-12-28 08:30:15\"转为时间的结构化对象：time.struct_time(tm_year=2022, tm_mon=12, tm_mday=28, tm_hour=8, tm_min=30, tm_sec=15, tm_wday=2, tm_yday=362, tm_isdst=-1)\n",
      "\n",
      "代码：\ttime.mktime(time.strptime(\"2022-12-28 08:30:15\", \"%Y-%m-%d %H:%M:%S\"))\n",
      "功能：\t将时间的结构化对象\"time.struct_time(tm_year=2022, tm_mon=12, tm_mday=28, tm_hour=8, tm_min=30, tm_sec=15, tm_wday=2, tm_yday=362, tm_isdst=-1)\"转为从Epoch开始，经历的秒数：1672187415.0\n",
      "\n",
      "代码：\ttime.sleep(2)\n",
      "功能：\tSleeping for 2 seconds...\n",
      "Done sleeping.\n"
     ]
    }
   ],
   "source": [
    "# 导入time模块\n",
    "import time\n",
    "\n",
    "# 获取当前时间的秒数，使用time()函数\n",
    "print(f\"代码：\\ttime.time()\\n功能：\\t从Epoch开始，经历的秒数：{time.time()}\\n\")\n",
    "\n",
    "# 将秒数转换为本地时间的结构化对象，使用localtime()函数\n",
    "print(f\"代码：\\ttime.localtime(time.time())\\n功能：\\t本地时间的结构化对象：{time.localtime(time.time())}\\n\")\n",
    "\n",
    "# 将秒数转换为UTC时间的结构化对象，使用gmtime()函数\n",
    "print(f\"代码：\\ttime.gmtime(time.time())\\n功能：\\tUTC时间的结构化对象：{time.gmtime(time.time())}\\n\")\n",
    "\n",
    "# 将结构化对象转换为可读的字符串，使用ctime()或asctime()函数\n",
    "print(f\"代码：\\ttime.ctime(time.time())\\n功能：\\t本地时间字符串：{time.ctime(time.time())}\\n\")\n",
    "print(f\"代码：\\ttime.asctime(time.gmtime(time.time()))\\n功能：\\tUTC时间字符串：{time.asctime(time.gmtime(time.time()))}\\n\")\n",
    "\n",
    "# 将结构化对象转换为自定义格式的字符串，使用strftime()函数\n",
    "print(f'*代码：\\ttime.strftime(\"%Y-%m-%d %H:%M:%S %Z\", time.localtime(time.time()))\\n功能：\\t自定义本地时间格式：{time.strftime(\"%Y-%m-%d %H:%M:%S %Z\", time.localtime(time.time()))}\\n')\n",
    "print(f'代码：\\ttime.strftime(\"%Y-%m-%d %H:%M:%S %Z\", time.gmtime(time.time()))\\n功能：\\t自定义UTC时间格式：{time.strftime(\"%Y-%m-%d %H:%M:%S %Z\", time.gmtime(time.time()))}\\n')\n",
    "\n",
    "# 将字符串转换为结构化对象，使用strptime()函数\n",
    "print(f'代码：\\ttime.strptime(\"2022-12-28 08:30:15\", \"%Y-%m-%d %H:%M:%S\")\\n功能：\\t将时间戳字符串\"2022-12-28 08:30:15\"转为时间的结构化对象：{time.strptime(\"2022-12-28 08:30:15\", \"%Y-%m-%d %H:%M:%S\")}\\n')\n",
    "# 把时间的结构化对象再转回时间戳字符串\n",
    "print(f'代码：\\ttime.mktime(time.strptime(\"2022-12-28 08:30:15\", \"%Y-%m-%d %H:%M:%S\"))\\n功能：\\t将时间的结构化对象\"{time.strptime(\"2022-12-28 08:30:15\", \"%Y-%m-%d %H:%M:%S\")}\"转为从Epoch开始，经历的秒数：{time.mktime(time.strptime(\"2022-12-28 08:30:15\", \"%Y-%m-%d %H:%M:%S\"))}\\n')\n",
    "\n",
    "# 暂停程序的执行，使用sleep()函数\n",
    "print(\"代码：\\ttime.sleep(2)\\n功能：\\tSleeping for 2 seconds...\")\n",
    "time.sleep(2)\n",
    "print(\"Done sleeping.\")"
   ]
  }
 ],
 "metadata": {
  "kernelspec": {
   "display_name": "Python 3",
   "language": "python",
   "name": "python3"
  },
  "language_info": {
   "codemirror_mode": {
    "name": "ipython",
    "version": 3
   },
   "file_extension": ".py",
   "mimetype": "text/x-python",
   "name": "python",
   "nbconvert_exporter": "python",
   "pygments_lexer": "ipython3",
   "version": "3.11.1"
  },
  "orig_nbformat": 4
 },
 "nbformat": 4,
 "nbformat_minor": 2
}
