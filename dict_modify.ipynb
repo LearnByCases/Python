{
 "cells": [
  {
   "attachments": {},
   "cell_type": "markdown",
   "metadata": {},
   "source": [
    "修改字典的实现方法"
   ]
  },
  {
   "cell_type": "code",
   "execution_count": 4,
   "metadata": {},
   "outputs": [
    {
     "name": "stdout",
     "output_type": "stream",
     "text": [
      "------------------ 使用赋值语句修改或添加键值对 ------------------\n",
      "{'Name': 'lengyuewusheng', 'Age': 20, 'Gender': 'Male', 'Height': 178}\n",
      "------------------ update() ------------------\n",
      "{'Name': 'primebi', 'Age': 18, 'Gender': 'Male', 'Height': 180, 'Weight': 70}\n",
      "------------------ del()、pop() ------------------\n",
      "18\n",
      "{'Name': 'lengyuewusheng'}\n",
      "------------------ clear() ------------------\n",
      "{}\n"
     ]
    }
   ],
   "source": [
    "# 方法一：使用赋值语句修改或添加键值对。可以使用赋值语句来修改已有键对应的值，或者添加新的键值对。\n",
    "print('-' * 18, \"使用赋值语句修改或添加键值对\", '-' * 18)\n",
    "# 创建一个包含三个键值对的字典\n",
    "dict1 = {'Name': 'lengyuewusheng', 'Age': 18, 'Gender': 'Male'}\n",
    "# 修改已有键对应的值\n",
    "dict1['Age'] = 20\n",
    "# 添加新的键值对\n",
    "dict1['Height'] = 178\n",
    "# 打印修改后的字典\n",
    "print(dict1)\n",
    "\n",
    "# 方法二：使用update()方法合并两个字典。\n",
    "# 可以使用update()方法来把一个字典的键值对更新到另一个字典中，如果有重复的键，会覆盖原来的值。\n",
    "print('-' * 18, \"update()\", '-' * 18)\n",
    "# 创建两个包含三个键值对的字典\n",
    "dict2 = {'Name': 'lengyuewusheng', 'Age': 18, 'Gender': 'Male'}\n",
    "dict3 = {'Name': 'primebi', 'Height': 180, 'Weight': 70}\n",
    "# 使用 update() 方法合并两个字典\n",
    "dict2.update(dict3)\n",
    "# 打印合并后的字典\n",
    "print(dict2)\n",
    "\n",
    "# 方法三：使用 del 语句或pop()方法删除键值对。\n",
    "# 可以使用del语句或pop()方法来删除指定键对应的键值对，如果键不存在，会抛出KeyError异常。\n",
    "# del语句没有返回值，而pop()方法会返回被删除的值。\n",
    "print('-' * 18, \"del()、pop()\", '-' * 18)\n",
    "# 创建一个包含三个键值对的字典\n",
    "dict4 = {'Name': 'lengyuewusheng', 'Age': 18, 'Gender': 'Male'}\n",
    "# 使用del语句删除指定键对应的键值对\n",
    "del dict4['Gender']\n",
    "# 使用pop()方法删除指定键对应的键值对，并返回其值\n",
    "age = dict4.pop('Age')\n",
    "print(age)\n",
    "# 打印删除后的字典\n",
    "print(dict4)\n",
    "\n",
    "# 方法四：使用clear()方法清空整个字典：可以使用clear()方法来清空整个字典，使其变成一个空的字典。\n",
    "print('-' * 18, \"clear()\", '-' * 18)\n",
    "# 创建一个包含三个键值对的字典\n",
    "dict5 = {'Name': 'lengyuewusheng', 'Age': 18, 'Gender': 'Male'}\n",
    "# 使用 clear() 方法清空整个字典\n",
    "dict5.clear()\n",
    "# 打印清空后的字典\n",
    "print(dict5)"
   ]
  }
 ],
 "metadata": {
  "kernelspec": {
   "display_name": "Python 3",
   "language": "python",
   "name": "python3"
  },
  "language_info": {
   "codemirror_mode": {
    "name": "ipython",
    "version": 3
   },
   "file_extension": ".py",
   "mimetype": "text/x-python",
   "name": "python",
   "nbconvert_exporter": "python",
   "pygments_lexer": "ipython3",
   "version": "3.11.1"
  },
  "orig_nbformat": 4
 },
 "nbformat": 4,
 "nbformat_minor": 2
}
