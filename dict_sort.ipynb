{
 "cells": [
  {
   "cell_type": "markdown",
   "metadata": {},
   "source": [
    "按照键或者值对字典进行排序"
   ]
  },
  {
   "cell_type": "code",
   "execution_count": 11,
   "metadata": {},
   "outputs": [
    {
     "name": "stdout",
     "output_type": "stream",
     "text": [
      "------------------ 使用sorted()函数 ------------------\n",
      "{'apple': 4, 'banana': 2, 'orange': 3, 'pear': 1}\n",
      "{'pear': 1, 'banana': 2, 'orange': 3, 'apple': 4}\n"
     ]
    }
   ],
   "source": [
    "# 可以使用sorted()函数对字典的键值对进行排序，返回一个列表，然后可以用dict()函数将列表转换为字典。\n",
    "print('-' * 18, \"使用sorted()函数\", '-' * 18)\n",
    "# 创建一个字典\n",
    "d = {\"apple\": 4, \"banana\": 2, \"pear\": 1, \"orange\": 3}\n",
    "# 按照键排序\n",
    "sorted_d = dict(sorted(d.items(), key=lambda x: x[0]))\n",
    "print(sorted_d)\n",
    "# 按照值排序\n",
    "sorted_d = dict(sorted(d.items(), key=lambda x: x[1]))\n",
    "print(sorted_d)"
   ]
  }
 ],
 "metadata": {
  "kernelspec": {
   "display_name": "Python 3",
   "language": "python",
   "name": "python3"
  },
  "language_info": {
   "codemirror_mode": {
    "name": "ipython",
    "version": 3
   },
   "file_extension": ".py",
   "mimetype": "text/x-python",
   "name": "python",
   "nbconvert_exporter": "python",
   "pygments_lexer": "ipython3",
   "version": "3.11.1"
  },
  "orig_nbformat": 4
 },
 "nbformat": 4,
 "nbformat_minor": 2
}
