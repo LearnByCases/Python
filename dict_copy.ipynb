{
 "cells": [
  {
   "attachments": {},
   "cell_type": "markdown",
   "metadata": {},
   "source": [
    "字典的深复制、浅复制、等号赋值的区别？\n",
    "* 对象赋值实际上是对象的引用，也就是说，当你把一个对象赋给另一个变量时，并没有创建一个新的对象，而只是让这个变量指向原来的对象。这就是等号赋值的含义。\n",
    "* 浅复制和深复制则是创建了一个新的对象，并把原对象中的内容复制过来。但是它们之间有一些区别。\n",
    "  * 浅复制只复制了原对象中的父级元素，也就是说，如果原对象中有嵌套的子对象（如列表、字典等），那么浅复制只会复制它们的引用，而不会复制它们本身。这意味着，如果你修改了原对象或者复制对象中的子对象，都会影响到另一个对象。\n",
    "  * 深复制则是递归地复制了原对象中的所有元素，包括父级元素和子对象。这意味着，原对象和复制对象完全独立，互不影响。\n",
    "* 可以用copy模块中的copy()函数和deepcopy()函数来实现浅复制和深复制。"
   ]
  },
  {
   "attachments": {},
   "cell_type": "markdown",
   "metadata": {},
   "source": [
    "复制字典"
   ]
  },
  {
   "cell_type": "code",
   "execution_count": 8,
   "metadata": {},
   "outputs": [
    {
     "name": "stdout",
     "output_type": "stream",
     "text": [
      "------------------ copy()、dict() ------------------\n",
      "{'name': 'primebi', 'age': 18, 'hobbies': ['reading', 'writing', 'singing']}\n",
      "{'name': 'lengyuewusheng', 'age': 18, 'hobbies': ['reading', 'writing', 'singing']}\n",
      "{'name': 'lengyuewusheng', 'age': 18, 'hobbies': ['reading', 'writing', 'singing']}\n",
      "------------------ deepcopy() ------------------\n",
      "{'name': 'primebi', 'age': 20, 'hobbies': ['reading', 'writing', 'swimming']}\n",
      "{'name': 'lengyuewusheng', 'age': 20, 'hobbies': ['reading', 'writing']}\n"
     ]
    }
   ],
   "source": [
    "# 可以使用copy()方法或dict()函数对字典进行浅拷贝。\n",
    "# 即只复制字典本身，不复制字典中的可变对象。\n",
    "print('-' * 18, \"copy()、dict()\", '-' * 18)\n",
    "# 创建一个字典\n",
    "d = {\"name\": \"lengyuewusheng\", \"age\": 18, \"hobbies\": [\"reading\", \"writing\"]}\n",
    "# 使用copy()方法复制字典\n",
    "d1 = d.copy()\n",
    "# 使用dict()函数复制字典\n",
    "d2 = dict(d)\n",
    "# 修改原字典中的值\n",
    "d[\"name\"] = \"primebi\"\n",
    "d[\"hobbies\"].append(\"singing\")\n",
    "# 打印三个字典\n",
    "print(d)\n",
    "print(d1)\n",
    "print(d2)\n",
    "\n",
    "\n",
    "# 可以使用deepcopy()函数对字典进行深拷贝。\n",
    "# 即完全复制字典及其内部的所有对象。\n",
    "print('-' * 18, \"deepcopy()\", '-' * 18)\n",
    "# 导入 copy 模块\n",
    "import copy\n",
    "# 创建一个字典\n",
    "d = {\"name\": \"lengyuewusheng\", \"age\": 20, \"hobbies\": [\"reading\", \"writing\"]}\n",
    "# 使用 deepcopy () 函数复制字典\n",
    "d3 = copy.deepcopy(d)\n",
    "# 修改原字典中的值\n",
    "d[\"name\"] = \"primebi\"\n",
    "d[\"hobbies\"].append(\"swimming\")\n",
    "# 打印两个字典\n",
    "print(d)\n",
    "print(d3)"
   ]
  }
 ],
 "metadata": {
  "kernelspec": {
   "display_name": "Python 3",
   "language": "python",
   "name": "python3"
  },
  "language_info": {
   "codemirror_mode": {
    "name": "ipython",
    "version": 3
   },
   "file_extension": ".py",
   "mimetype": "text/x-python",
   "name": "python",
   "nbconvert_exporter": "python",
   "pygments_lexer": "ipython3",
   "version": "3.11.1"
  },
  "orig_nbformat": 4
 },
 "nbformat": 4,
 "nbformat_minor": 2
}
