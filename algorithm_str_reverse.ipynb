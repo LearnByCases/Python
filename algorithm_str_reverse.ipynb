{
 "cells": [
  {
   "cell_type": "code",
   "execution_count": 1,
   "metadata": {},
   "outputs": [
    {
     "name": "stdout",
     "output_type": "stream",
     "text": [
      "dcba4321\n"
     ]
    }
   ],
   "source": [
    "# 使用字符串切片，例如 a = a[::-1]，这是最简单和最快的方法。\n",
    "str1 = '1234abcd'\n",
    "print(str1[::-1])"
   ]
  },
  {
   "cell_type": "code",
   "execution_count": 2,
   "metadata": {},
   "outputs": [
    {
     "name": "stdout",
     "output_type": "stream",
     "text": [
      "dcba4321\n"
     ]
    }
   ],
   "source": [
    "# 使用reversed()函数，然后用join()方法将返回的迭代器拼接成字符串。\n",
    "print(\"\".join(reversed('1234abcd')))"
   ]
  },
  {
   "cell_type": "code",
   "execution_count": 3,
   "metadata": {},
   "outputs": [
    {
     "name": "stdout",
     "output_type": "stream",
     "text": [
      "dcba4321\n"
     ]
    }
   ],
   "source": [
    "# 使用列表的reverse()方法，先将字符串转换成列表，然后反转列表，再用join()方法拼接成字符串。\n",
    "lis = list('1234abcd'); \n",
    "lis.reverse()\n",
    "print(\"\".join(lis))"
   ]
  },
  {
   "cell_type": "code",
   "execution_count": 4,
   "metadata": {},
   "outputs": [
    {
     "name": "stdout",
     "output_type": "stream",
     "text": [
      "dcba4321\n",
      "dcba4321\n"
     ]
    }
   ],
   "source": [
    "# 使用循环反向迭代字符串，然后用字符串拼接或列表追加的方式构造新的字符串。\n",
    "str1 = '1234abcd'\n",
    "new_str = ''\n",
    "for i in range(len(str1)-1, -1, -1):\n",
    "    new_str += str1[i]\n",
    "print(new_str)\n",
    "\n",
    "new_lis = []\n",
    "for i in range(len(str1)-1, -1, -1):\n",
    "    new_lis.append(str1[i])\n",
    "print(''.join(new_lis))"
   ]
  },
  {
   "cell_type": "code",
   "execution_count": 5,
   "metadata": {},
   "outputs": [
    {
     "name": "stdout",
     "output_type": "stream",
     "text": [
      "dcba4321\n"
     ]
    }
   ],
   "source": [
    "# 使用递归的方式，每次返回字符串的最后一个字符和剩余部分的反转结果。\n",
    "def rev_string(s):\n",
    "    if len(s) == 1:\n",
    "        return s\n",
    "    return s[-1] + rev_string(s[:-1])\n",
    "print(rev_string('1234abcd'))"
   ]
  }
 ],
 "metadata": {
  "kernelspec": {
   "display_name": "Python 3",
   "language": "python",
   "name": "python3"
  },
  "language_info": {
   "codemirror_mode": {
    "name": "ipython",
    "version": 3
   },
   "file_extension": ".py",
   "mimetype": "text/x-python",
   "name": "python",
   "nbconvert_exporter": "python",
   "pygments_lexer": "ipython3",
   "version": "3.11.1"
  },
  "orig_nbformat": 4
 },
 "nbformat": 4,
 "nbformat_minor": 2
}
