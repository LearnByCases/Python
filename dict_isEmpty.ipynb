{
 "cells": [
  {
   "attachments": {},
   "cell_type": "markdown",
   "metadata": {},
   "source": [
    "判断字典是否为空"
   ]
  },
  {
   "cell_type": "code",
   "execution_count": 3,
   "metadata": {},
   "outputs": [
    {
     "name": "stdout",
     "output_type": "stream",
     "text": [
      "------------------ if语句直接判断 ------------------\n",
      "字典为空\n",
      "------------------ 使用not any(dict)函数 ------------------\n",
      "字典为空\n",
      "------------------ 使用len(dict)函数 ------------------\n",
      "字典为空\n",
      "------------------ 使用bool(dict)函数 ------------------\n",
      "字典为空\n"
     ]
    }
   ],
   "source": [
    "# 方法一：可以使用if条件语句，如果字典中包含元素，则 if 条件的值为 True，否则为 False。\n",
    "print('-' * 18, \"if语句直接判断\", '-' * 18)\n",
    "# 创建一个空字典\n",
    "dict1 = {}\n",
    "# 使用 if 语句判断字典是否为空\n",
    "if dict1:\n",
    "    print(\"字典不为空\")\n",
    "else:\n",
    "    print(\"字典为空\")\n",
    "\n",
    "\n",
    "# 方法二：可以使用not any(dict)函数，如果字典中的所有键都为 False，则返回 True，否则返回 False。\n",
    "print('-' * 18, \"使用not any(dict)函数\", '-' * 18)\n",
    "# 创建一个空字典\n",
    "dict1 = {}\n",
    "# 使用 not any 函数判断字典是否为空\n",
    "if not any(dict1):\n",
    "    print(\"字典为空\")\n",
    "else:\n",
    "    print(\"字典不为空\")\n",
    "\n",
    "\n",
    "# 可以使用len(dict)函数，如果字典的长度为0，则表示字典为空，否则不为空。\n",
    "print('-' * 18, \"使用len(dict)函数\", '-' * 18)\n",
    "# 创建一个空字典\n",
    "dict1 = {}\n",
    "# 使用 len 函数判断字典是否为空\n",
    "if len(dict1) == 0:\n",
    "    print(\"字典为空\")\n",
    "else:\n",
    "    print(\"字典不为空\")\n",
    "\n",
    "\n",
    "# 可以使用bool(dict)函数，如果字典的布尔值为 False，则表示字典为空，否则不为空。\n",
    "print('-' * 18, \"使用bool(dict)函数\", '-' * 18)\n",
    "# 创建一个空字典\n",
    "dict1 = {}\n",
    "# 使用 bool 函数判断字典是否为空\n",
    "if bool(dict1) == False:\n",
    "    print(\"字典为空\")\n",
    "else:\n",
    "    print(\"字典不为空\")"
   ]
  }
 ],
 "metadata": {
  "kernelspec": {
   "display_name": "Python 3",
   "language": "python",
   "name": "python3"
  },
  "language_info": {
   "codemirror_mode": {
    "name": "ipython",
    "version": 3
   },
   "file_extension": ".py",
   "mimetype": "text/x-python",
   "name": "python",
   "nbconvert_exporter": "python",
   "pygments_lexer": "ipython3",
   "version": "3.11.1"
  },
  "orig_nbformat": 4
 },
 "nbformat": 4,
 "nbformat_minor": 2
}
