{
 "cells": [
  {
   "cell_type": "code",
   "execution_count": 23,
   "metadata": {},
   "outputs": [
    {
     "name": "stdout",
     "output_type": "stream",
     "text": [
      "0 1 1 2 3 5 8 13 21 34 55 89 144 233 377 610 987 1597 2584 4181 6765 10946 17711 28657 46368 75025 121393 196418 317811 514229 \n",
      "[0, 1, 1, 2, 3, 5, 8, 13, 21, 34, 55, 89, 144, 233, 377, 610, 987, 1597, 2584, 4181, 6765, 10946, 17711, 28657, 46368, 75025, 121393, 196418, 317811, 514229]\n",
      "0 1 1 2 3 5 8 13 21 34 55 89 144 233 377 610 987 1597 2584 4181 6765 10946 17711 28657 46368 75025 121393 196418 317811 514229 [0, 1, 1, 2, 3, 5, 8, 13, 21, 34, 55, 89, 144, 233, 377, 610, 987, 1597, 2584, 4181, 6765, 10946, 17711, 28657, 46368, 75025, 121393, 196418, 317811, 514229]\n"
     ]
    }
   ],
   "source": [
    "'''\n",
    "斐波那契数列\n",
    "'''\n",
    "\n",
    "# 使用递归\n",
    "# 即根据斐波那契数列的定义，每一项都等于前两项之和，来计算第n项的值。\n",
    "def fibonacci(n):\n",
    "  if n <= 1:\n",
    "    return n\n",
    "  else:\n",
    "    return fibonacci(n-1) + fibonacci(n-2)\n",
    "\n",
    "def fibonacci1(n):\n",
    "    for i in range(n):\n",
    "        print(fibonacci(i), end=\" \")\n",
    "    print()\n",
    "\n",
    "# 迭代函数\n",
    "# 利用一个列表来存储斐波那契数列的每一项，然后用一个循环语句来生成并输出数列。\n",
    "# 定义一个列表\n",
    "def fibonacci2(n):\n",
    "  a = [0, 1]\n",
    "  # 生成并输出斐波那契数列\n",
    "  for i in range(2, n):\n",
    "    a.append(a[i - 1] + a[i - 2])\n",
    "  print(a)\n",
    "\n",
    "# 生成器函数\n",
    "# 定义一个函数，使用yield语句返回每一项的值，然后用一个循环遍历生成器对象。\n",
    "def fibonacci3(n):\n",
    "  a = 0; b = 1\n",
    "  for i in range(n):\n",
    "    yield a\n",
    "    a, b = b, a + b\n",
    "\n",
    "# lambda表达式\n",
    "# 利用Python的lambda表达式和reduce函数来实现斐波那契数列的生成和输出。\n",
    "# 导入reduce函数\n",
    "from functools import reduce\n",
    "def fibonacci4(n):\n",
    "  # 使用lambda表达式和reduce函数生成并输出斐波那契数列\n",
    "  return reduce(lambda x, _: x + [x[-1] + x[-2]], range(n - 2), [0, 1])\n",
    "\n",
    "# 验证\n",
    "fibonacci1(30)\n",
    "fibonacci2(30)\n",
    "for x in fibonacci3(30):\n",
    "  print(x, end=' ')\n",
    "print(fibonacci4(30))"
   ]
  }
 ],
 "metadata": {
  "kernelspec": {
   "display_name": "Python 3",
   "language": "python",
   "name": "python3"
  },
  "language_info": {
   "codemirror_mode": {
    "name": "ipython",
    "version": 3
   },
   "file_extension": ".py",
   "mimetype": "text/x-python",
   "name": "python",
   "nbconvert_exporter": "python",
   "pygments_lexer": "ipython3",
   "version": "3.11.1"
  },
  "orig_nbformat": 4
 },
 "nbformat": 4,
 "nbformat_minor": 2
}
