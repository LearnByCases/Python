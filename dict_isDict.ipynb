{
 "cells": [
  {
   "cell_type": "markdown",
   "metadata": {},
   "source": [
    "判断一个对象是否是字典"
   ]
  },
  {
   "cell_type": "code",
   "execution_count": 5,
   "metadata": {},
   "outputs": [
    {
     "name": "stdout",
     "output_type": "stream",
     "text": [
      "------------------ isinstance(obj, dict) ------------------\n",
      "False\n",
      "True\n",
      "------------------ type(obj) ------------------\n",
      "False\n",
      "True\n"
     ]
    }
   ],
   "source": [
    "# 方法一：可以使用isinstance(obj, dict)函数。\n",
    "# 如果obj是dict类型或其子类的实例，则返回True，否则返回False。\n",
    "print('-' * 18, \"isinstance(obj, dict)\", '-' * 18)\n",
    "# 创建一个列表对象\n",
    "list1 = [1, 2, 3]\n",
    "# 创建一个字典对象\n",
    "dict1 = {1: \"a\", 2: \"b\", 3: \"c\"}\n",
    "# 使用 isinstance 函数判断对象是否是字典\n",
    "print(isinstance(list1, dict))\n",
    "print(isinstance(dict1, dict))\n",
    "\n",
    "\n",
    "# 方法二：可以使用type(obj)函数。\n",
    "# 如果obj的类型是dict，则表示对象是字典，否则不是。\n",
    "print('-' * 18, \"type(obj)\", '-' * 18)\n",
    "# 创建一个列表对象\n",
    "list1 = [1, 2, 3]\n",
    "# 创建一个字典对象\n",
    "dict1 = {1: \"a\", 2: \"b\", 3: \"c\"}\n",
    "# 使用 type 函数判断对象是否是字典\n",
    "print(type(list1) == dict)\n",
    "print(type(dict1) == dict)"
   ]
  }
 ],
 "metadata": {
  "kernelspec": {
   "display_name": "Python 3",
   "language": "python",
   "name": "python3"
  },
  "language_info": {
   "codemirror_mode": {
    "name": "ipython",
    "version": 3
   },
   "file_extension": ".py",
   "mimetype": "text/x-python",
   "name": "python",
   "nbconvert_exporter": "python",
   "pygments_lexer": "ipython3",
   "version": "3.11.1"
  },
  "orig_nbformat": 4
 },
 "nbformat": 4,
 "nbformat_minor": 2
}
