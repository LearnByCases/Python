{
 "cells": [
  {
   "cell_type": "markdown",
   "metadata": {},
   "source": [
    "删除字典的实现方法"
   ]
  },
  {
   "cell_type": "code",
   "execution_count": 1,
   "metadata": {},
   "outputs": [
    {
     "name": "stdout",
     "output_type": "stream",
     "text": [
      "------------------ del语句 ------------------\n",
      "{'Name': 'lengyuewusheng', 'Age': 18}\n",
      "------------------ pop() ------------------\n",
      "18\n",
      "{'Name': 'lengyuewusheng', 'Gender': 'Male'}\n",
      "70\n",
      "------------------ popitem() ------------------\n",
      "Gender Male\n",
      "{'Name': 'lengyuewusheng', 'Age': 18}\n",
      "------------------ clear() ------------------\n",
      "{}\n"
     ]
    }
   ],
   "source": [
    "# 方法一：使用del语句删除指定键值对或整个字典。\n",
    "# 可以使用del语句来删除指定键对应的键值对，或者删除整个字典。如果键不存在，会抛出KeyError异常。\n",
    "print('-' * 18, \"del语句\", '-' * 18)\n",
    "# 创建一个包含三个键值对的字典\n",
    "dict1 = {'Name': 'lengyuewusheng', 'Age': 18, 'Gender': 'Male'}\n",
    "# 使用del语句删除指定键对应的键值对\n",
    "del dict1['Gender']\n",
    "# 打印删除后的字典\n",
    "print(dict1)\n",
    "# 使用del语句删除整个字典，再次打印字典会抛出NameError异常\n",
    "# del dict1\n",
    "# print(dict1)\n",
    "\n",
    "# 方法二：使用pop()方法删除指定键值对并返回其值。\n",
    "# 可以使用pop()方法来根据键来获取对应的值，并从字典中删除这个键值对，如果键不存在，会抛出 KeyError 异常，或者返回指定的默认值。\n",
    "# pop()方法会返回被删除的值。\n",
    "print('-' * 18, \"pop()\", '-' * 18)\n",
    "# 创建一个包含三个键值对的字典\n",
    "dict2 = {'Name': 'lengyuewusheng', 'Age': 18, 'Gender': 'Male'}\n",
    "# 使用pop()方法删除指定键对应的键值对，并返回其值\n",
    "age = dict2.pop('Age')\n",
    "print(age)\n",
    "print(dict2)\n",
    "# 使用pop()方法删除不存在的键，会抛出KeyError异常\n",
    "# height = dict2.pop('Height')\n",
    "# 使用pop()方法删除不存在的键，并指定默认值，不会抛出异常\n",
    "weight = dict2.pop('Weight', 70)\n",
    "print(weight)\n",
    "\n",
    "# 方法三：使用popitem()方法随机删除一个键值对并返回其键和值。\n",
    "# 可以使用popitem()方法来随机获取并删除一个键值对，如果字典为空，会抛出KeyError异常。\n",
    "# popitem()方法会返回被删除的键和值。\n",
    "print('-' * 18, \"popitem()\", '-' * 18)\n",
    "# 创建一个包含三个键值对的字典\n",
    "dict3 = {'Name': 'lengyuewusheng', 'Age': 18, 'Gender': 'Male'}\n",
    "# 使用popitem()方法随机删除一个键值对，并返回其键和值\n",
    "key, value = dict3.popitem()\n",
    "print(key, value)\n",
    "print(dict3)\n",
    "# 清空字典后，再次使用popitem()方法会抛出KeyError异常\n",
    "# dict3.clear()\n",
    "# key, value = dict3.popitem()\n",
    "\n",
    "# 方法四：使用clear()方法清空整个字典。\n",
    "# 可以使用clear()方法来清空整个字典，使其变成一个空的字典。\n",
    "print('-' * 18, \"clear()\", '-' * 18)\n",
    "# 创建一个包含三个键值对的字典\n",
    "dict4 = {'Name': 'lengyuewusheng', 'Age': 18, 'Gender': 'Male'}\n",
    "# 使用clear()方法清空整个字典\n",
    "dict4.clear()\n",
    "# 打印清空后的字典，输出{}\n",
    "print(dict4)"
   ]
  }
 ],
 "metadata": {
  "kernelspec": {
   "display_name": "Python 3",
   "language": "python",
   "name": "python3"
  },
  "language_info": {
   "codemirror_mode": {
    "name": "ipython",
    "version": 3
   },
   "file_extension": ".py",
   "mimetype": "text/x-python",
   "name": "python",
   "nbconvert_exporter": "python",
   "pygments_lexer": "ipython3",
   "version": "3.11.1"
  },
  "orig_nbformat": 4
 },
 "nbformat": 4,
 "nbformat_minor": 2
}
