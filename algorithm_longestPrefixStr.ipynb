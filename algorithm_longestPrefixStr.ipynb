{
 "cells": [
  {
   "cell_type": "code",
   "execution_count": 9,
   "metadata": {},
   "outputs": [
    {
     "name": "stdout",
     "output_type": "stream",
     "text": [
      "abc\n"
     ]
    }
   ],
   "source": [
    "'''\n",
    "返回两个字符串的最长前缀\n",
    "'''\n",
    "\n",
    "# 直接比较\n",
    "def longest_prefix_str(s1,s2):\n",
    "  # 判断两个字符串的长度，取较短的那个作为遍历对象\n",
    "  short, long = (s1, s2) if len(s1) < len(s2) else (s2, s1)\n",
    "  # 初始化最长公共子串为空\n",
    "  repeat = ''\n",
    "  # 从最长的子串开始遍历，逐次减一，直到找到公共子串或者遍历完毕\n",
    "  for i in range(len(short)):\n",
    "    # 判断子串是否在另一个字符串中，并且长度是否大于当前最长公共子串\n",
    "    if short[:i + 1] not in long:\n",
    "      # 更新最长公共子串\n",
    "      return short[:i]\n",
    "  return short[:i + 1]\n",
    "\n",
    "\n",
    "# 测试一下函数是否正确\n",
    "string1 = \"abcxdefg123\"\n",
    "string2 = \"abcydefg123\"\n",
    "print(longest_prefix_str(string1,string2))\n"
   ]
  }
 ],
 "metadata": {
  "kernelspec": {
   "display_name": "Python 3",
   "language": "python",
   "name": "python3"
  },
  "language_info": {
   "codemirror_mode": {
    "name": "ipython",
    "version": 3
   },
   "file_extension": ".py",
   "mimetype": "text/x-python",
   "name": "python",
   "nbconvert_exporter": "python",
   "pygments_lexer": "ipython3",
   "version": "3.11.1"
  },
  "orig_nbformat": 4
 },
 "nbformat": 4,
 "nbformat_minor": 2
}
