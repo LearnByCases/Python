{
 "cells": [
  {
   "cell_type": "code",
   "execution_count": 5,
   "metadata": {},
   "outputs": [
    {
     "name": "stdout",
     "output_type": "stream",
     "text": [
      "------------------ 用法一：'*'和'**'可以用作算数运算符，表示乘法和乘方 ------------------\n",
      "10\n",
      "32\n",
      "------------------ 用法二：'*'和'**'可以用作函数传参，表示接收任意数量的位置参数和关键字参数 ------------------\n",
      "args= (1, 2, 3)\n",
      "kwargs= {'a': 'a', 'b': 'b', 'c': 'c'}\n",
      "x= 1\n",
      "y= 2\n",
      "z= 3\n",
      "x= x\n",
      "y= y\n",
      "z= z\n",
      "------------------ 用法三：'*'可以用作序列解包，表示将一个序列分配给多个变量 ------------------\n",
      "1\n",
      "2\n",
      "[3, 4]\n"
     ]
    }
   ],
   "source": [
    "'''\n",
    "Python中'*'和'**'的用法\n",
    "'''\n",
    "\n",
    "print('-' * 18, \"用法一：'*'和'**'可以用作算数运算符，表示乘法和乘方\", '-' * 18)\n",
    "# 乘法\n",
    "print(2 * 5)\n",
    "# 乘方\n",
    "print(2 ** 5)\n",
    "\n",
    "\n",
    "print('-' * 18, \"用法二：'*'和'**'可以用作函数传参，表示接收任意数量的位置参数和关键字参数\", '-' * 18)\n",
    "def fun(*args, **kwargs):\n",
    "    print('args=', args)\n",
    "    print('kwargs=', kwargs)\n",
    "# 调用函数，传入不同类型的参数\n",
    "fun(1, 2, 3, a='a', b='b', c='c')\n",
    "\n",
    "def fun(x, y, z):\n",
    "    print('x=', x)\n",
    "    print('y=', y)\n",
    "    print('z=', z)\n",
    "# 创建一个列表和一个字典\n",
    "lst = [1, 2, 3]\n",
    "dic = {'x': 'x', 'y': 'y', 'z': 'z'}\n",
    "# 调用函数，使用 * 和 ** 解包列表和字典\n",
    "fun(*lst) # 等价于 fun(1, 2, 3)\n",
    "fun(**dic) # 等价于 fun(x='x', y='y', z='z')\n",
    "\n",
    "\n",
    "print('-' * 18, \"用法三：'*'可以用作序列解包，表示将一个序列分配给多个变量\", '-' * 18)\n",
    "# 创建一个元组\n",
    "tup = (1, 2, 3, 4)\n",
    "# 使用 * 解包元组，将前两个元素赋值给 a 和 b，剩余的元素赋值给 c\n",
    "a, b, *c = tup\n",
    "print(a) # 1\n",
    "print(b) # 2\n",
    "print(c) # [3, 4]"
   ]
  }
 ],
 "metadata": {
  "kernelspec": {
   "display_name": "Python 3",
   "language": "python",
   "name": "python3"
  },
  "language_info": {
   "codemirror_mode": {
    "name": "ipython",
    "version": 3
   },
   "file_extension": ".py",
   "mimetype": "text/x-python",
   "name": "python",
   "nbconvert_exporter": "python",
   "pygments_lexer": "ipython3",
   "version": "3.11.1"
  },
  "orig_nbformat": 4
 },
 "nbformat": 4,
 "nbformat_minor": 2
}
