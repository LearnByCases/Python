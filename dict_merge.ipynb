{
 "cells": [
  {
   "attachments": {},
   "cell_type": "markdown",
   "metadata": {},
   "source": [
    "合并字典"
   ]
  },
  {
   "cell_type": "code",
   "execution_count": 1,
   "metadata": {},
   "outputs": [
    {
     "name": "stdout",
     "output_type": "stream",
     "text": [
      "------------------ 使用update()方法 ------------------\n",
      "{'a': 1, 'b': 3, 'c': 4}\n",
      "------------------ 使用dict()函数和**运算符 ------------------\n",
      "{'a': 1, 'b': 3, 'c': 4}\n",
      "------------------ 使用{**x, **y}的语法糖 ------------------\n",
      "{'a': 1, 'b': 3, 'c': 4}\n"
     ]
    }
   ],
   "source": [
    "# 可以使用update()方法将一个字典的键值对添加到另一个字典中，如果有重复的键，则用后者的值覆盖前者的值。\n",
    "print('-' * 18, \"使用update()方法\", '-' * 18)\n",
    "# 创建两个字典\n",
    "x = {\"a\": 1, \"b\": 2}\n",
    "y = {\"b\": 3, \"c\": 4}\n",
    "# 使用update()方法合并两个字典\n",
    "x.update(y)\n",
    "print(x)\n",
    "\n",
    "# 可以使用dict()函数和**运算符将两个字典的键值对作为关键字参数传入，创建一个新的字典，如果有重复的键，则用后者的值覆盖前者的值。\n",
    "print('-' * 18, \"使用dict()函数和**运算符\", '-' * 18)\n",
    "# 创建两个字典\n",
    "x = {\"a\": 1, \"b\": 2}\n",
    "y = {\"b\": 3, \"c\": 4}\n",
    "# 使用dict()函数和**运算符合并两个字典\n",
    "z = dict(x, **y)\n",
    "print(z)\n",
    "\n",
    "# 可以使用{**x, **y}的语法糖在Python3.5+中合并两个字典，创建一个新的字典，如果有重复的键，则用后者的值覆盖前者的值。\n",
    "print('-' * 18, \"使用{**x, **y}的语法糖\", '-' * 18)\n",
    "# 创建两个字典\n",
    "x = {\"a\": 1, \"b\": 2}\n",
    "y = {\"b\": 3, \"c\": 4}\n",
    "# 使用 {**x, **y} 的语法糖合并两个字典\n",
    "z = {**x, **y}\n",
    "print(z)"
   ]
  }
 ],
 "metadata": {
  "kernelspec": {
   "display_name": "Python 3",
   "language": "python",
   "name": "python3"
  },
  "language_info": {
   "codemirror_mode": {
    "name": "ipython",
    "version": 3
   },
   "file_extension": ".py",
   "mimetype": "text/x-python",
   "name": "python",
   "nbconvert_exporter": "python",
   "pygments_lexer": "ipython3",
   "version": "3.11.1"
  },
  "orig_nbformat": 4
 },
 "nbformat": 4,
 "nbformat_minor": 2
}
