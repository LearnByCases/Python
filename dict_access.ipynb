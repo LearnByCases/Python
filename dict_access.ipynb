{
 "cells": [
  {
   "attachments": {},
   "cell_type": "markdown",
   "metadata": {},
   "source": [
    "访问字典的常见方法"
   ]
  },
  {
   "cell_type": "code",
   "execution_count": 14,
   "metadata": {},
   "outputs": [
    {
     "name": "stdout",
     "output_type": "stream",
     "text": [
      "lengyuewusheng\n"
     ]
    }
   ],
   "source": [
    "# 方法一：使用键作为下标访问：可以使用方括号 [] 来根据键来获取对应的值，如果键不存在，会抛出 KeyError 异常。\n",
    "# 创建一个包含三个键值对的字典\n",
    "dict1 = {'Name': 'lengyuewusheng', 'Age': 18, 'Gender': 'Male'}\n",
    "# 使用键作为下标访问字典中的值\n",
    "print(dict1['Name'])\n",
    "# 抛出 KeyError\n",
    "# print(dict1['Height'])"
   ]
  },
  {
   "cell_type": "code",
   "execution_count": 15,
   "metadata": {},
   "outputs": [
    {
     "name": "stdout",
     "output_type": "stream",
     "text": [
      "18\n",
      "None\n",
      "178\n"
     ]
    }
   ],
   "source": [
    "# 方法二：使用 get() 方法访问：可以使用 get() 方法来根据键来获取对应的值，如果键不存在，会返回 None 或者指定的默认值。\n",
    "# 创建一个包含三个键值对的字典\n",
    "dict2 = {'Name': 'lengyuewusheng', 'Age': 18, 'Gender': 'Male'}\n",
    "# 使用 get() 方法访问字典中的值\n",
    "print(dict2.get('Age'))\n",
    "print(dict2.get('Height'))\n",
    "print(dict2.get('Height', 178))"
   ]
  },
  {
   "cell_type": "code",
   "execution_count": 16,
   "metadata": {},
   "outputs": [
    {
     "name": "stdout",
     "output_type": "stream",
     "text": [
      "------------------ key, value ------------------\n",
      "Name lengyuewusheng\n",
      "Age 18\n",
      "Gender Male\n",
      "------------------ keys ------------------\n",
      "Name\n",
      "Age\n",
      "Gender\n",
      "------------------ values ------------------\n",
      "lengyuewusheng\n",
      "18\n",
      "Male\n"
     ]
    }
   ],
   "source": [
    "# 方法三：使用 items() 方法访问：可以使用 items() 方法来返回一个包含所有键值对的列表，然后使用 for 循环来遍历这个列表。\n",
    "# 创建一个包含三个键值对的字典\n",
    "dict3 = {'Name': 'lengyuewusheng', 'Age': 18, 'Gender': 'Male'}\n",
    "# 使用 items() 方法和 for 循环访问字典中的所有键值对\n",
    "print('-' * 18, \"key, value\", '-' * 18)\n",
    "for key, value in dict3.items():\n",
    "  print(key, value)\n",
    "\n",
    "# 使用 keys() 方法和 for 循环访问字典中的所有键\n",
    "print('-' * 18, \"keys\", '-' * 18)\n",
    "for key in dict3.keys():\n",
    "  print(key)\n",
    "\n",
    "# 使用 values() 方法和 for 循环访问字典中的所有值\n",
    "print('-' * 18, \"values\", '-' * 18)\n",
    "for value in dict3.values():\n",
    "  print(value)\n"
   ]
  }
 ],
 "metadata": {
  "kernelspec": {
   "display_name": "Python 3",
   "language": "python",
   "name": "python3"
  },
  "language_info": {
   "codemirror_mode": {
    "name": "ipython",
    "version": 3
   },
   "file_extension": ".py",
   "mimetype": "text/x-python",
   "name": "python",
   "nbconvert_exporter": "python",
   "pygments_lexer": "ipython3",
   "version": "3.11.1"
  },
  "orig_nbformat": 4
 },
 "nbformat": 4,
 "nbformat_minor": 2
}
