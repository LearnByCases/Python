{
 "cells": [
  {
   "cell_type": "code",
   "execution_count": 26,
   "metadata": {},
   "outputs": [
    {
     "name": "stdout",
     "output_type": "stream",
     "text": [
      "------------------ 使用循环 ------------------\n",
      "[6, 28, 496]\n",
      "[6, 28, 496]\n",
      "------------------ 使用列表推导式 ------------------\n",
      "[6, 28, 496]\n",
      "------------------ 使用函数式编程 ------------------\n",
      "[6, 28, 496]\n"
     ]
    }
   ],
   "source": [
    "'''\n",
    "判断完美数\n",
    "完美数是指一个正整数等于除它本身以外的所有因子之和的数，例如：6 = 1 + 2 + 3。\n",
    "'''\n",
    "\n",
    "# 方法一：使用循环\n",
    "# 即遍历一个数的所有真因子（即除了自身以外的约数），并计算它们的和，然后判断和是否等于原数。\n",
    "def is_perfect1(n):\n",
    "  res = []\n",
    "  # 循环从1到n-1，找出所有真因子\n",
    "  for i in range(1, n):\n",
    "    sum = 0\n",
    "    for j in range(1, i):\n",
    "      # 如果能整除n，说明是真因子，加到sum中\n",
    "      if i % j == 0:\n",
    "        sum += j\n",
    "    # 判断sum是否等于n\n",
    "    if sum == i:\n",
    "      res.append(i)\n",
    "  return res\n",
    "\n",
    "# 简化写法\n",
    "def is_perfect_s(n):\n",
    "    return [i for i in range(1,n) if sum(j for j in range(1,i) if i%j==0)==i]\n",
    "\n",
    "\n",
    "# 方法二：使用列表推导式\n",
    "# 利用Python的列表推导式来生成一个范围内的所有数的真因子之和的列表，然后对每个数判断是否为完美数，即是否等于它在列表中对应位置的值。\n",
    "def is_perfect2(n):\n",
    "  # 使用列表推导式生成真因子之和的列表\n",
    "  s = [sum([j for j in range(1, i) if i % j == 0]) for i in range(1, n + 1)]\n",
    "  res = []\n",
    "  # 遍历范围内的所有数\n",
    "  for i in range(1, n + 1):\n",
    "    # 判断是否为完美数，如果是，输出\n",
    "    if s[i - 1] == i:\n",
    "      res.append(s[i - 1])\n",
    "  return res\n",
    "\n",
    "\n",
    "# 方法三：使用函数式编程\n",
    "# 利用Python的函数式编程的特性，使用map函数和filter函数来实现完美数的输出。\n",
    "def is_perfect(x):\n",
    "    # 计算真因子之和\n",
    "    s = sum(filter(lambda j: x % j == 0, range(1, x)))\n",
    "    # 返回是否等于自身\n",
    "    return s == x\n",
    "\n",
    "def is_perfect3(n):\n",
    "  # 使用map函数和filter函数生成并输出完美数的列表\n",
    "  return list(map(lambda x: x[0], filter(lambda x: x[1], zip(range(1, n + 1), map(is_perfect, range(1, n + 1))))))\n",
    "\n",
    "\n",
    "# 测试函数\n",
    "print('-' * 18, \"使用循环\", '-' * 18)\n",
    "print(is_perfect1(1000))\n",
    "print(is_perfect_s(1000))\n",
    "print('-' * 18, \"使用列表推导式\", '-' * 18)\n",
    "print(is_perfect2(1000))\n",
    "print('-' * 18, \"使用函数式编程\", '-' * 18)\n",
    "print(is_perfect3(1000))"
   ]
  }
 ],
 "metadata": {
  "kernelspec": {
   "display_name": "Python 3",
   "language": "python",
   "name": "python3"
  },
  "language_info": {
   "codemirror_mode": {
    "name": "ipython",
    "version": 3
   },
   "file_extension": ".py",
   "mimetype": "text/x-python",
   "name": "python",
   "nbconvert_exporter": "python",
   "pygments_lexer": "ipython3",
   "version": "3.11.1"
  },
  "orig_nbformat": 4
 },
 "nbformat": 4,
 "nbformat_minor": 2
}
