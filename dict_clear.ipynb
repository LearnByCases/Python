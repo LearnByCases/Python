{
 "cells": [
  {
   "cell_type": "markdown",
   "metadata": {},
   "source": [
    "清空字典的常见方法"
   ]
  },
  {
   "cell_type": "code",
   "execution_count": 3,
   "metadata": {},
   "outputs": [
    {
     "name": "stdout",
     "output_type": "stream",
     "text": [
      "------------------ clear() ------------------\n",
      "{}\n",
      "------------------ 赋值运算重置为空 ------------------\n",
      "{}\n",
      "------------------ del语句删除字典内所有元素 ------------------\n",
      "{}\n",
      "------------------ 用pop()方法逐个删除字典内所有元素 ------------------\n",
      "{}\n",
      "------------------ popitem()方法逐个删除字典内所有元素 ------------------\n",
      "{}\n"
     ]
    }
   ],
   "source": [
    "# 方法一：用字典的clear()方法删除字典内所有元素。\n",
    "print('-' * 18, \"clear()\", '-' * 18)\n",
    "# 创建一个字典\n",
    "dict1 = {'Name': 'lengyuewusheng', 'Age': 18, 'Major': 'Information Management and Information System','University':'buu'}\n",
    "# 用字典的clear()方法删除字典内所有元素\n",
    "dict1.clear()\n",
    "# 输出结果为{}，说明字典已经清空\n",
    "print(dict1)\n",
    "\n",
    "# 方法二：用赋值运算符把一个空字典{}赋给原字典。\n",
    "print('-' * 18, \"赋值运算重置为空\", '-' * 18)\n",
    "# 创建一个字典\n",
    "dict1 = {'Name': 'lengyuewusheng', 'Age': 18, 'Major': 'Information Management and Information System','University':'buu'}\n",
    "# 用赋值运算符把一个空字典{}赋给原字典\n",
    "dict1 = {}\n",
    "# 输出结果为{}，说明字典已经清空\n",
    "print(dict1)\n",
    "\n",
    "# 方法三：用del语句删除字典内所有元素。\n",
    "print('-' * 18, \"del语句删除字典内所有元素\", '-' * 18)\n",
    "# 创建一个字典\n",
    "dict1 = {'Name': 'lengyuewusheng', 'Age': 18, 'Major': 'Information Management and Information System','University':'buu'}\n",
    "# 用del语句删除字典内所有元素\n",
    "for key in list(dict1.keys()):\n",
    "    del dict1[key]\n",
    "# 输出结果为{}，说明字典已经清空\n",
    "print(dict1)\n",
    "\n",
    "# 方法四：用pop()方法逐个弹出并删除字典内所有元素。\n",
    "print('-' * 18, \"用pop()方法逐个删除字典内所有元素\", '-' * 18)\n",
    "# 创建一个字典\n",
    "dict1 = {'Name': 'lengyuewusheng', 'Age': 18, 'Major': 'Information Management and Information System','University':'buu'}\n",
    "# 用pop()方法逐个弹出并删除字典内所有元素\n",
    "for key in list(dict1.keys()):\n",
    "    dict1.pop(key)\n",
    "# 输出结果为{}，说明字典已经清空\n",
    "print(dict1)\n",
    "\n",
    "# 方法五：用字典的popitem()方法逐个弹出并删除字典内所有元素。\n",
    "print('-' * 18, \"popitem()方法逐个删除字典内所有元素\", '-' * 18)\n",
    "# 创建一个字典\n",
    "dict1 = {'Name': 'lengyuewusheng', 'Age': 18, 'Major': 'Information Management and Information System','University':'buu'}\n",
    "# 用字典的popitem()方法逐个弹出并删除字典内所有元素\n",
    "while dict1:\n",
    "    dict1.popitem()\n",
    "# 输出结果为{}，说明字典已经清空\n",
    "print(dict1)"
   ]
  }
 ],
 "metadata": {
  "kernelspec": {
   "display_name": "Python 3",
   "language": "python",
   "name": "python3"
  },
  "language_info": {
   "codemirror_mode": {
    "name": "ipython",
    "version": 3
   },
   "file_extension": ".py",
   "mimetype": "text/x-python",
   "name": "python",
   "nbconvert_exporter": "python",
   "pygments_lexer": "ipython3",
   "version": "3.11.1"
  },
  "orig_nbformat": 4
 },
 "nbformat": 4,
 "nbformat_minor": 2
}
