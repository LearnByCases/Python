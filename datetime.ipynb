{
 "cells": [
  {
   "attachments": {},
   "cell_type": "markdown",
   "metadata": {},
   "source": [
    "datetime模块包含以下几种常用功能：\n",
    "* 使用date，time，datetime，timedelta，timezone等类来创建和处理日期时间对象。\n",
    "* 使用date，time，datetime类中的方法和属性来获取和修改日期时间对象的信息。\n",
    "* 使用timedelta类来表示和计算日期时间对象之间的差值。\n",
    "* 使用timezone类和pytz模块来处理时区相关的问题。\n",
    "* 使用strftime()和strptime()方法来格式化和解析日期时间字符串。"
   ]
  },
  {
   "cell_type": "code",
   "execution_count": 183,
   "metadata": {},
   "outputs": [
    {
     "name": "stdout",
     "output_type": "stream",
     "text": [
      "------------------ 使用date类来创建和处理日期对象 ------------------\n",
      "代码：\tdatetime.date(2023, 3, 1)\n",
      "功能：\t创建date对象，表示2023年03月01日：2023-03-01\n",
      "\n",
      "代码：\tdatetime.date(2023, 3, 1).year\n",
      "功能：\t获取date对象的年份：\t2023\n",
      "\n",
      "代码：\tdatetime.date(2023, 3, 1).month\n",
      "功能：\t获取date对象的月份：\t3\n",
      "\n",
      "代码：\tdatetime.date(2023, 3, 1).day\n",
      "功能：\t获取date对象的日期：\t1\n",
      "\n",
      "代码：\tdatetime.date(2023, 3, 1).replace(year=2013)\n",
      "功能：\t修改date对象的年份，并返回一个新的date对象：\t2013-03-01\n",
      "\n",
      "代码：\tdatetime.date.today()\n",
      "功能：\t打印当前的本地日期：\t2023-04-16\n",
      "\n",
      "------------------ 使用time类来创建和处理时间对象 ------------------\n",
      "代码：\tdatetime.time(11, 2, 3)\n",
      "功能：\t创建一个time对象，表示11点02分03秒：\t11:02:03\n",
      "\n",
      "代码：\tdatetime.time(11, 2, 3).hour\n",
      "功能：\t获取time对象的小时：\t11\n",
      "\n",
      "代码：\tdatetime.time(11, 2, 3).minute\n",
      "功能：\t获取time对象的分钟：\t2\n",
      "\n",
      "代码：\tdatetime.time(11, 2, 3).second\n",
      "功能：\t获取time对象的秒数：\t3\n",
      "\n",
      "代码：\tdatetime.time(11, 2, 3).replace(minute=22)\n",
      "功能：\t修改time对象的分钟，并返回一个新的time对象：\t11:22:03\n",
      "\n",
      "------------------ 使用datetime类来创建和处理日期时间对象 ------------------\n",
      "代码：\tdatetime.datetime(2023, 3, 1, 11, 2, 3)\n",
      "功能：\t创建一个datetime对象，表示2023年03月01日11点02分03秒：\t2023-03-01 11:02:03\n",
      "\n",
      "代码：\tdatetime.datetime(2023, 3, 1, 11, 2, 3).date()\n",
      "功能：\t获取datetime对象的日期部分，并返回一个date对象：\t2023-03-01\n",
      "\n",
      "代码：\tdatetime.datetime(2023, 3, 1, 11, 2, 3).time()\n",
      "功能：\t获取datetime对象的时间部分，并返回一个time对象：\t11:02:03\n",
      "\n",
      "代码：\tdatetime.datetime(2023, 3, 1, 11, 2, 3).replace(hour=23)\n",
      "功能：\t修改datetime对象的小时，并返回一个新的datetime对象：\t2023-03-01 23:02:03\n",
      "\n",
      "代码：\tdatetime.datetime.now()\n",
      "功能：\t获取当前的本地日期时间，并返回一个datetime对象：\t2023-04-16 13:56:48.645107\n",
      "\n",
      "------------------ 使用timedelta类来表示和计算日期时间对象之间的差值 ------------------\n",
      "代码：\tdatetime.timedelta(days=30)\n",
      "功能：\t创建一个timedelta对象，表示30天的时间间隔：\t30 days, 0:00:00\n",
      "\n",
      "代码：\tdatetime.date.today() + datetime.timedelta(days=30)\n",
      "功能：\t计算date对象加上timedelta对象，并返回一个新的date对象，表示30天后的日期：\t2023-05-16\n",
      "\n",
      "代码：\tdatetime.date.today() - datetime.timedelta(days=30)\n",
      "功能：\t计算date对象加上timedelta对象，并返回一个新的date对象，表示30天前的日期：\t2023-03-17\n",
      "\n"
     ]
    }
   ],
   "source": [
    "# 导入datetime模块\n",
    "import datetime\n",
    "\n",
    "# 使用date类来创建和处理日期对象\n",
    "print('-' * 18, '使用date类来创建和处理日期对象', '-' * 18)\n",
    "print(f'代码：\\tdatetime.date(2023, 3, 1)\\n功能：\\t创建date对象，表示2023年03月01日：{datetime.date(2023, 3, 1)}\\n')\n",
    "print(f'代码：\\tdatetime.date(2023, 3, 1).year\\n功能：\\t获取date对象的年份：\\t{datetime.date(2023, 3, 1).year}\\n')\n",
    "print(f'代码：\\tdatetime.date(2023, 3, 1).month\\n功能：\\t获取date对象的月份：\\t{datetime.date(2023, 3, 1).month}\\n')\n",
    "print(f'代码：\\tdatetime.date(2023, 3, 1).day\\n功能：\\t获取date对象的日期：\\t{datetime.date(2023, 3, 1).day}\\n')\n",
    "print(f'代码：\\tdatetime.date(2023, 3, 1).replace(year=2013)\\n功能：\\t修改date对象的年份，并返回一个新的date对象：\\t{datetime.date(2023, 3, 1).replace(year=2013)}\\n')\n",
    "print(f'代码：\\tdatetime.date.today()\\n功能：\\t打印当前的本地日期：\\t{datetime.date.today()}\\n')\n",
    "\n",
    "# 使用time类来创建和处理时间对象\n",
    "print('-' * 18, '使用time类来创建和处理时间对象', '-' * 18)\n",
    "print(f'代码：\\tdatetime.time(11, 2, 3)\\n功能：\\t创建一个time对象，表示11点02分03秒：\\t{datetime.time(11, 2, 3)}\\n')\n",
    "print(f'代码：\\tdatetime.time(11, 2, 3).hour\\n功能：\\t获取time对象的小时：\\t{datetime.time(11, 2, 3).hour}\\n')\n",
    "print(f'代码：\\tdatetime.time(11, 2, 3).minute\\n功能：\\t获取time对象的分钟：\\t{datetime.time(11, 2, 3).minute}\\n')\n",
    "print(f'代码：\\tdatetime.time(11, 2, 3).second\\n功能：\\t获取time对象的秒数：\\t{datetime.time(11, 2, 3).second}\\n')\n",
    "print(f'代码：\\tdatetime.time(11, 2, 3).replace(minute=22)\\n功能：\\t修改time对象的分钟，并返回一个新的time对象：\\t{datetime.time(11, 2, 3).replace(minute=22)}\\n')\n",
    "\n",
    "# 使用datetime类来创建和处理日期时间对象\n",
    "print('-' * 18, '使用datetime类来创建和处理日期时间对象', '-' * 18)\n",
    "print(f'代码：\\tdatetime.datetime(2023, 3, 1, 11, 2, 3)\\n功能：\\t创建一个datetime对象，表示2023年03月01日11点02分03秒：\\t{datetime.datetime(2023, 3, 1, 11, 2, 3)}\\n')\n",
    "print(f'代码：\\tdatetime.datetime(2023, 3, 1, 11, 2, 3).date()\\n功能：\\t获取datetime对象的日期部分，并返回一个date对象：\\t{datetime.datetime(2023, 3, 1, 11, 2, 3).date()}\\n')\n",
    "print(f'代码：\\tdatetime.datetime(2023, 3, 1, 11, 2, 3).time()\\n功能：\\t获取datetime对象的时间部分，并返回一个time对象：\\t{datetime.datetime(2023, 3, 1, 11, 2, 3).time()}\\n')\n",
    "print(f'代码：\\tdatetime.datetime(2023, 3, 1, 11, 2, 3).replace(hour=23)\\n功能：\\t修改datetime对象的小时，并返回一个新的datetime对象：\\t{datetime.datetime(2023, 3, 1, 11, 2, 3).replace(hour=23)}\\n')\n",
    "print(f'代码：\\tdatetime.datetime.now()\\n功能：\\t获取当前的本地日期时间，并返回一个datetime对象：\\t{datetime.datetime.now()}\\n')\n",
    "\n",
    "# 使用timedelta类来表示和计算日期时间对象之间的差值\n",
    "print('-' * 18, '使用timedelta类来表示和计算日期时间对象之间的差值', '-' * 18)\n",
    "print(f'代码：\\tdatetime.timedelta(days=30)\\n功能：\\t创建一个timedelta对象，表示30天的时间间隔：\\t{datetime.timedelta(days=30)}\\n')\n",
    "print(f'代码：\\tdatetime.date.today() + datetime.timedelta(days=30)\\n功能：\\t计算date对象加上timedelta对象，并返回一个新的date对象，表示30天后的日期：\\t{datetime.date.today() + datetime.timedelta(days=30)}\\n')\n",
    "print(f'代码：\\tdatetime.date.today() - datetime.timedelta(days=30)\\n功能：\\t计算date对象加上timedelta对象，并返回一个新的date对象，表示30天前的日期：\\t{datetime.date.today() - datetime.timedelta(days=30)}\\n')"
   ]
  },
  {
   "cell_type": "code",
   "execution_count": 184,
   "metadata": {},
   "outputs": [
    {
     "name": "stdout",
     "output_type": "stream",
     "text": [
      "------------------ 处理时区相关的问题 ------------------\n",
      "代码：\tdatetime.datetime(2023, 3, 1, 11, 2, 3).replace(tzinfo=datetime.timezone(datetime.timedelta(hours=8)))\n",
      "功能：\t给datetime对象添加时区信息，并返回一个新的datetime对象，表示北京时间：\t2023-03-01 11:02:03+08:00\n",
      "\n",
      "代码：\tdatetime.datetime(2023, 3, 1, 11, 2, 3).replace(tzinfo=tz.gettz(\"Asia/Shanghai\"))\n",
      "功能：\t使用dateutil的tz类给datetime对象添加时区信息，并返回一个新的datetime对象：\t2023-03-01 11:02:03+08:00\n",
      "\n",
      "代码：\tpytz.timezone(\"Asia/Shanghai\").localize(datetime.datetime(2023, 3, 1, 11, 2, 3))\n",
      "功能：\t使用pytz给datetime对象添加时区信息，并返回一个新的datetime对象，表示北京时间：\t2023-03-01 11:02:03+08:00\n",
      "\n",
      "代码：\tpytz.timezone(\"Asia/Shanghai\").localize(datetime.datetime(2023, 3, 1, 11, 2, 3)).astimezone(pytz.timezone(\"America/New_York\"))\n",
      "功能：\t使用pytz给datetime对象添加时区信息，并返回一个新的datetime对象，表示纽约时间，即美国东部时间(EST)：\t2023-02-28 22:02:03-05:00\n",
      "\n"
     ]
    }
   ],
   "source": [
    "# 处理时区相关的问题\n",
    "\n",
    "# 导入pytz模块，提供更多时区支持\n",
    "\n",
    "print('-' * 18, '处理时区相关的问题', '-' * 18)\n",
    "print(f'代码：\\tdatetime.datetime(2023, 3, 1, 11, 2, 3).replace(tzinfo=datetime.timezone(datetime.timedelta(hours=8)))\\n功能：\\t给datetime对象添加时区信息，并返回一个新的datetime对象，表示北京时间：\\t{datetime.datetime(2023, 3, 1, 11, 2, 3).replace(tzinfo=datetime.timezone(datetime.timedelta(hours=8)))}\\n')\n",
    "\n",
    "from dateutil import tz\n",
    "print(f'代码：\\tdatetime.datetime(2023, 3, 1, 11, 2, 3).replace(tzinfo=tz.gettz(\"Asia/Shanghai\"))\\n功能：\\t使用dateutil的tz类给datetime对象添加时区信息，并返回一个新的datetime对象：\\t{datetime.datetime(2023, 3, 1, 11, 2, 3).replace(tzinfo=tz.gettz(\"Asia/Shanghai\"))}\\n')\n",
    "\n",
    "import pytz\n",
    "print(f'代码：\\tpytz.timezone(\"Asia/Shanghai\").localize(datetime.datetime(2023, 3, 1, 11, 2, 3))\\n功能：\\t使用pytz给datetime对象添加时区信息，并返回一个新的datetime对象，表示北京时间：\\t{pytz.timezone(\"Asia/Shanghai\").localize(datetime.datetime(2023, 3, 1, 11, 2, 3))}\\n')\n",
    "print(f'代码：\\tpytz.timezone(\"Asia/Shanghai\").localize(datetime.datetime(2023, 3, 1, 11, 2, 3)).astimezone(pytz.timezone(\"America/New_York\"))\\n功能：\\t使用pytz给datetime对象添加时区信息，并返回一个新的datetime对象，表示纽约时间，即美国东部时间(EST)：\\t{pytz.timezone(\"Asia/Shanghai\").localize(datetime.datetime(2023, 3, 1, 11, 2, 3)).astimezone(pytz.timezone(\"America/New_York\"))}\\n')"
   ]
  },
  {
   "cell_type": "code",
   "execution_count": 185,
   "metadata": {},
   "outputs": [
    {
     "name": "stdout",
     "output_type": "stream",
     "text": [
      "------------ 使用strftime()方法来格式化datetime对象为字符串，需要指定一个格式字符串，其中包含一些特殊的占位符，表示不同的日期时间组成部分 ------------\n",
      "代码：\tdatetime.datetime(2023, 3, 1, 11, 2, 3).strftime(\"%Y-%m-%d %H:%M:%S\")\n",
      "功能：\t使用strftime()方法来格式化datetime对象为字符串：\t2023-03-01 11:02:03\n",
      "\n",
      "------------ 使用strptime()方法来解析字符串为datetime对象，需要指定一个格式字符串，与字符串中的日期时间格式相匹配 ------------\n",
      "代码：\tdatetime.datetime.strptime(datetime.datetime(2023, 3, 1, 11, 2, 3).strftime(\"%Y-%m-%d %H:%M:%S\"), \"%Y-%m-%d %H:%M:%S\")\n",
      "功能：\t使用strptime()方法来解析字符串为datetime对象：\t2023-03-01 11:02:03\n",
      "\n"
     ]
    }
   ],
   "source": [
    "# 使用strftime()和strptime()方法来格式化和解析日期时间字符串\n",
    "\n",
    "print('-' * 12, '使用strftime()方法来格式化datetime对象为字符串，需要指定一个格式字符串，其中包含一些特殊的占位符，表示不同的日期时间组成部分', '-' * 12)\n",
    "print(f'代码：\\tdatetime.datetime(2023, 3, 1, 11, 2, 3).strftime(\"%Y-%m-%d %H:%M:%S\")\\n功能：\\t使用strftime()方法来格式化datetime对象为字符串：\\t{datetime.datetime(2023, 3, 1, 11, 2, 3).strftime(\"%Y-%m-%d %H:%M:%S\")}\\n')\n",
    "\n",
    "print('-' * 12, '使用strptime()方法来解析字符串为datetime对象，需要指定一个格式字符串，与字符串中的日期时间格式相匹配', '-' * 12)\n",
    "print(f'代码：\\tdatetime.datetime.strptime(datetime.datetime(2023, 3, 1, 11, 2, 3).strftime(\"%Y-%m-%d %H:%M:%S\"), \"%Y-%m-%d %H:%M:%S\")\\n功能：\\t使用strptime()方法来解析字符串为datetime对象：\\t{datetime.datetime.strptime(datetime.datetime(2023, 3, 1, 11, 2, 3).strftime(\"%Y-%m-%d %H:%M:%S\"), \"%Y-%m-%d %H:%M:%S\")}\\n')"
   ]
  }
 ],
 "metadata": {
  "kernelspec": {
   "display_name": "Python 3",
   "language": "python",
   "name": "python3"
  },
  "language_info": {
   "codemirror_mode": {
    "name": "ipython",
    "version": 3
   },
   "file_extension": ".py",
   "mimetype": "text/x-python",
   "name": "python",
   "nbconvert_exporter": "python",
   "pygments_lexer": "ipython3",
   "version": "3.11.1"
  },
  "orig_nbformat": 4
 },
 "nbformat": 4,
 "nbformat_minor": 2
}
