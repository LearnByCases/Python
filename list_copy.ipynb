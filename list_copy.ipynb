{
 "cells": [
  {
   "attachments": {},
   "cell_type": "markdown",
   "metadata": {},
   "source": [
    "列表的浅拷贝、深拷贝以及赋值的区别\n",
    "* 赋值：使用赋值运算符（=）将一个列表的引用赋给另一个变量，这样两个变量都指向同一个列表对象，\n",
    "  * 对其中一个变量所指向的列表进行修改，另一个变量也会受到影响。\n",
    "* 浅拷贝：使用列表的切片操作（[:]）、构造函数（list()）或者copy()方法创建一个新的列表对象，\n",
    "  * 但是新列表中的元素仍然是原列表中元素的引用，如果原列表中的元素是可变对象，对这些元素进行修改，新列表也会受到影响。\n",
    "* 深拷贝：使用copy模块中的deepcopy()函数创建一个新的列表对象，并且递归地复制原列表中的所有元素及其子元素，\n",
    "  * 如果原列表中的元素是可变对象，对这些元素进行修改，新列表不会受到影响。"
   ]
  },
  {
   "cell_type": "code",
   "execution_count": 5,
   "metadata": {},
   "outputs": [
    {
     "name": "stdout",
     "output_type": "stream",
     "text": [
      "original: [1, 2, ['x', 4]]\n",
      "------------------ 修改原始对象的元素后，赋值创建的新对象 ------------------\n",
      "assigned: [1, 2, ['x', 4]]\n",
      "------------------ 修改原始对象的元素后，切片创建的新对象 ------------------\n",
      "sliced: [1, 2, ['x', 4]]\n",
      "------------------ 修改原始对象的元素后，使用构造函数创建的新对象 ------------------\n",
      "constructed: [1, 2, ['x', 4]]\n",
      "------------------ 修改原始对象的元素后，copy()创建的新对象 ------------------\n",
      "copied: [1, 2, ['x', 4]]\n",
      "------------------ 修改原始对象的元素后，copy.deepcopy()创建的新对象 ------------------\n",
      "deepcopied: [1, 2, [3, 4]]\n"
     ]
    }
   ],
   "source": [
    "# 导入copy模块\n",
    "import copy\n",
    "\n",
    "# 创建一个包含嵌套列表的列表\n",
    "original = [1, 2, [3, 4]]\n",
    "\n",
    "# 使用赋值运算符复制列表\n",
    "assigned = original\n",
    "\n",
    "# 使用切片操作复制列表\n",
    "sliced = original[:]\n",
    "\n",
    "# 使用构造函数复制列表\n",
    "constructed = list(original)\n",
    "\n",
    "# 使用copy()方法复制列表\n",
    "copied = original.copy()\n",
    "\n",
    "# 使用deepcopy()函数复制列表\n",
    "deepcopied = copy.deepcopy(original)\n",
    "\n",
    "# 修改原列表中嵌套列表的第一个元素\n",
    "original[2][0] = 'x'\n",
    "\n",
    "# 输出各个复制后的列表\n",
    "print('original:', original)\n",
    "print('-' * 18, \"修改原始对象的元素后，赋值创建的新对象\", '-' * 18)\n",
    "print('assigned:', assigned)\n",
    "print('-' * 18, \"修改原始对象的元素后，切片创建的新对象\", '-' * 18)\n",
    "print('sliced:', sliced)\n",
    "print('-' * 18, \"修改原始对象的元素后，使用构造函数创建的新对象\", '-' * 18)\n",
    "print('constructed:', constructed)\n",
    "print('-' * 18, \"修改原始对象的元素后，copy()创建的新对象\", '-' * 18)\n",
    "print('copied:', copied)\n",
    "print('-' * 18, \"修改原始对象的元素后，copy.deepcopy()创建的新对象\", '-' * 18)\n",
    "print('deepcopied:', deepcopied)"
   ]
  },
  {
   "attachments": {},
   "cell_type": "markdown",
   "metadata": {},
   "source": [
    "列表被clear()方法清空后，列表清空前的浅拷贝、深拷贝以及赋值的结果的区别：\n",
    "* 赋值：如果一个变量是另一个变量的赋值，那么当原变量被clear()方法清空后，赋值的变量也会被清空，\n",
    "  * 因为它们指向同一个列表对象。\n",
    "* 浅拷贝：如果一个变量是另一个变量的浅拷贝，那么当原变量被clear()方法清空后，浅拷贝的变量不会被清空，\n",
    "  * 因为它们指向不同的列表对象，只是列表中的元素是相同的引用。\n",
    "* 深拷贝：如果一个变量是另一个变量的深拷贝，那么当原变量被clear()方法清空后，深拷贝的变量不会被清空，\n",
    "  * 因为它们指向不同的列表对象，并且列表中的元素也是不同的对象。"
   ]
  },
  {
   "cell_type": "code",
   "execution_count": 2,
   "metadata": {},
   "outputs": [
    {
     "name": "stdout",
     "output_type": "stream",
     "text": [
      "original: []\n",
      "------------------ 清空原始对象的元素后，赋值创建的新对象 ------------------\n",
      "assigned: []\n",
      "------------------ 清空原始对象的元素后，切片创建的新对象 ------------------\n",
      "sliced: [1, 2, [3, 4]]\n",
      "------------------ 清空原始对象的元素后，使用构造函数创建的新对象 ------------------\n",
      "constructed: [1, 2, [3, 4]]\n",
      "------------------ 清空原始对象的元素后，copy()创建的新对象 ------------------\n",
      "copied: [1, 2, [3, 4]]\n",
      "------------------ 清空原始对象的元素后，copy.deepcopy()赋值创建的新对象 ------------------\n",
      "deepcopied: [1, 2, [3, 4]]\n"
     ]
    }
   ],
   "source": [
    "# 导入copy模块\n",
    "import copy\n",
    "\n",
    "# 创建一个包含嵌套列表的列表\n",
    "original = [1, 2, [3, 4]]\n",
    "\n",
    "# 使用赋值运算符复制列表\n",
    "assigned = original\n",
    "\n",
    "# 使用切片操作复制列表\n",
    "sliced = original[:]\n",
    "\n",
    "# 使用构造函数复制列表\n",
    "constructed = list(original)\n",
    "\n",
    "# 使用copy()方法复制列表\n",
    "copied = original.copy()\n",
    "\n",
    "# 使用deepcopy()函数复制列表\n",
    "deepcopied = copy.deepcopy(original)\n",
    "\n",
    "# 使用clear()方法清空原列表\n",
    "original.clear()\n",
    "\n",
    "# 输出各个复制后的列表\n",
    "print('original:', original)\n",
    "print('-' * 18, \"清空原始对象的元素后，赋值创建的新对象\", '-' * 18)\n",
    "print('assigned:', assigned)\n",
    "print('-' * 18, \"清空原始对象的元素后，切片创建的新对象\", '-' * 18)\n",
    "print('sliced:', sliced)\n",
    "print('-' * 18, \"清空原始对象的元素后，使用构造函数创建的新对象\", '-' * 18)\n",
    "print('constructed:', constructed)\n",
    "print('-' * 18, \"清空原始对象的元素后，copy()创建的新对象\", '-' * 18)\n",
    "print('copied:', copied)\n",
    "print('-' * 18, \"清空原始对象的元素后，copy.deepcopy()赋值创建的新对象\", '-' * 18)\n",
    "print('deepcopied:', deepcopied)"
   ]
  }
 ],
 "metadata": {
  "kernelspec": {
   "display_name": "Python 3",
   "language": "python",
   "name": "python3"
  },
  "language_info": {
   "codemirror_mode": {
    "name": "ipython",
    "version": 3
   },
   "file_extension": ".py",
   "mimetype": "text/x-python",
   "name": "python",
   "nbconvert_exporter": "python",
   "pygments_lexer": "ipython3",
   "version": "3.11.1"
  },
  "orig_nbformat": 4
 },
 "nbformat": 4,
 "nbformat_minor": 2
}
